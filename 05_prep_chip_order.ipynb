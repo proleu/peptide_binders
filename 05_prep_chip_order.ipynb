{
 "cells": [
  {
   "cell_type": "markdown",
   "metadata": {},
   "source": [
    "# Prep chip order"
   ]
  },
  {
   "cell_type": "markdown",
   "metadata": {},
   "source": [
    "### Boilerplate"
   ]
  },
  {
   "cell_type": "code",
   "execution_count": 1,
   "metadata": {},
   "outputs": [
    {
     "name": "stdout",
     "output_type": "stream",
     "text": [
      "/mnt/home/pleung/projects/peptide_binders/r0/peptide_binders\n",
      "dig66\n"
     ]
    }
   ],
   "source": [
    "%load_ext lab_black\n",
    "# python internal\n",
    "import collections\n",
    "import copy\n",
    "import gc\n",
    "from glob import glob\n",
    "import h5py\n",
    "import itertools\n",
    "import os\n",
    "import random\n",
    "import re\n",
    "import socket\n",
    "import shutil\n",
    "import subprocess\n",
    "import sys\n",
    "\n",
    "# conda/pip\n",
    "import dask\n",
    "import graphviz\n",
    "import matplotlib.pyplot as plt\n",
    "import pandas as pd\n",
    "import numpy as np\n",
    "import scipy\n",
    "import seaborn as sns\n",
    "from tqdm import tqdm\n",
    "\n",
    "# special packages on the DIGS\n",
    "import py3Dmol\n",
    "import pymol\n",
    "import pyrosetta\n",
    "\n",
    "# notebook magic\n",
    "%matplotlib inline\n",
    "%load_ext autoreload\n",
    "%autoreload 2\n",
    "\n",
    "print(os.getcwd())\n",
    "print(socket.gethostname())"
   ]
  },
  {
   "cell_type": "markdown",
   "metadata": {},
   "source": [
    "### Load selected designs"
   ]
  },
  {
   "cell_type": "code",
   "execution_count": 2,
   "metadata": {},
   "outputs": [],
   "source": [
    "input_json = os.path.join(os.getcwd(), \"04_run_af2_short\", \"to_order.json\")\n",
    "to_order_df = pd.read_json(input_json)"
   ]
  },
  {
   "cell_type": "code",
   "execution_count": 3,
   "metadata": {},
   "outputs": [],
   "source": [
    "subpools = {}\n",
    "i = 0\n",
    "for length in set(to_order_df.chA_length.values):\n",
    "    subset = to_order_df[to_order_df[\"chA_length\"] == length]\n",
    "    if len(subset) < 1000:\n",
    "        subpools[i] = subset\n",
    "        i += 1\n",
    "    else:\n",
    "        for split in np.array_split(subset, int(len(subset) / 1000) + 1):\n",
    "            subpools[i] = split\n",
    "            i += 1"
   ]
  },
  {
   "cell_type": "code",
   "execution_count": 4,
   "metadata": {
    "scrolled": true
   },
   "outputs": [
    {
     "name": "stdout",
     "output_type": "stream",
     "text": [
      "0 494\n",
      "1 907\n",
      "2 907\n",
      "3 907\n",
      "4 907\n",
      "5 907\n",
      "6 907\n",
      "7 907\n",
      "8 907\n",
      "9 907\n",
      "10 782\n",
      "11 781\n",
      "12 781\n",
      "13 946\n",
      "14 946\n",
      "15 945\n",
      "16 945\n",
      "17 945\n",
      "18 945\n",
      "19 945\n"
     ]
    }
   ],
   "source": [
    "for key, value in subpools.items():\n",
    "    print(key, len(value))"
   ]
  },
  {
   "cell_type": "markdown",
   "metadata": {},
   "source": [
    "### Make functions to domesticate sequences uses Ryan's `domesticator`"
   ]
  },
  {
   "cell_type": "code",
   "execution_count": 8,
   "metadata": {},
   "outputs": [],
   "source": [
    "def row2dna(row) -> str:\n",
    "    def capture_1shot_domesticator(cmd: str) -> str:\n",
    "        \"\"\"\n",
    "        run domesticator cmd.\n",
    "        split stdout into lines.\n",
    "        loop once through discarding lines up to ones including >.\n",
    "        return joined output\n",
    "        \"\"\"\n",
    "\n",
    "        def cmd_no_stderr(command, wait=True):\n",
    "            \"\"\"@nrbennet @bcov @pleung\"\"\"\n",
    "            the_command = subprocess.Popen(\n",
    "                command,\n",
    "                shell=True,\n",
    "                stdout=subprocess.PIPE,\n",
    "                stderr=subprocess.PIPE,\n",
    "                universal_newlines=True,\n",
    "            )\n",
    "            if not wait:\n",
    "                return\n",
    "            the_stuff = the_command.communicate()\n",
    "            return str(the_stuff[0])\n",
    "\n",
    "        stdout = cmd_no_stderr(cmd)\n",
    "\n",
    "        sequence = []\n",
    "        append = False\n",
    "        for line in stdout.splitlines():\n",
    "            if append:\n",
    "                sequence.append(line)\n",
    "            else:\n",
    "                pass\n",
    "            if \">unknown_seq1\" in line:\n",
    "                append = True\n",
    "            else:\n",
    "                pass\n",
    "        to_return = \"\".join(sequence)\n",
    "        return to_return\n",
    "\n",
    "    protein = row[\"chA_seq\"]\n",
    "    dna = capture_1shot_domesticator(\n",
    "        f\"./domesticator.py {protein} --avoid_restriction_sites BsaI XhoI NdeI --avoid_patterns AGGAGG GCTGGTGG ATCTGTT GGRGGT GGATCC GCTAGC AAAAAAAA GGGGG TTTTTTTT CCCCCCCC CACCTGC --avoid_kmers 8 --avoid_kmers_boost 10 --species s_cerevisiae\"\n",
    "    )\n",
    "    return dna"
   ]
  },
  {
   "cell_type": "markdown",
   "metadata": {},
   "source": [
    "### Reverse translate designs to order\n",
    "Use domesticator to reverse translate"
   ]
  },
  {
   "cell_type": "code",
   "execution_count": 9,
   "metadata": {
    "scrolled": true
   },
   "outputs": [
    {
     "name": "stdout",
     "output_type": "stream",
     "text": [
      "run the following from your local terminal:\n",
      "ssh -L 8000:localhost:8787 pleung@dig66\n",
      "#!/usr/bin/env bash\n",
      "\n",
      "#SBATCH -J dask-worker\n",
      "#SBATCH -e /mnt/home/pleung/logs/slurm_logs/dask-worker-%J.err\n",
      "#SBATCH -o /mnt/home/pleung/logs/slurm_logs/dask-worker-%J.out\n",
      "#SBATCH -p long\n",
      "#SBATCH -n 1\n",
      "#SBATCH --cpus-per-task=1\n",
      "#SBATCH --mem=954M\n",
      "#SBATCH -t 23:30:00\n",
      "\n",
      "/home/pleung/.conda/envs/crispy/bin/python -m distributed.cli.dask_worker tcp://172.16.131.96:38599 --nthreads 1 --memory-limit 0.93GiB --name dummy-name --nanny --death-timeout 120 --local-directory $TMPDIR/dask --lifetime 23h --lifetime-stagger 4m --protocol tcp://\n",
      "\n",
      "<Client: 'tcp://172.16.131.96:38599' processes=0 threads=0, memory=0 B>\n"
     ]
    },
    {
     "ename": "NameError",
     "evalue": "name 'pickle' is not defined",
     "output_type": "error",
     "traceback": [
      "\u001b[0;31m---------------------------------------------------------------------------\u001b[0m",
      "\u001b[0;31mNameError\u001b[0m                                 Traceback (most recent call last)",
      "\u001b[0;32m/scratch/pleung/31065090/ipykernel_3861238/3837783711.py\u001b[0m in \u001b[0;36m<module>\u001b[0;34m\u001b[0m\n\u001b[1;32m     46\u001b[0m             \u001b[0mos\u001b[0m\u001b[0;34m.\u001b[0m\u001b[0mmakedirs\u001b[0m\u001b[0;34m(\u001b[0m\u001b[0moutput_dir\u001b[0m\u001b[0;34m,\u001b[0m \u001b[0mexist_ok\u001b[0m\u001b[0;34m=\u001b[0m\u001b[0;32mTrue\u001b[0m\u001b[0;34m)\u001b[0m\u001b[0;34m\u001b[0m\u001b[0;34m\u001b[0m\u001b[0m\n\u001b[1;32m     47\u001b[0m             \u001b[0;32mwith\u001b[0m \u001b[0mopen\u001b[0m\u001b[0;34m(\u001b[0m\u001b[0mos\u001b[0m\u001b[0;34m.\u001b[0m\u001b[0mpath\u001b[0m\u001b[0;34m.\u001b[0m\u001b[0mjoin\u001b[0m\u001b[0;34m(\u001b[0m\u001b[0moutput_dir\u001b[0m\u001b[0;34m,\u001b[0m \u001b[0;34m\"subpools.pkl\"\u001b[0m\u001b[0;34m)\u001b[0m\u001b[0;34m,\u001b[0m \u001b[0;34m\"wb\"\u001b[0m\u001b[0;34m)\u001b[0m \u001b[0;32mas\u001b[0m \u001b[0mhandle\u001b[0m\u001b[0;34m:\u001b[0m\u001b[0;34m\u001b[0m\u001b[0;34m\u001b[0m\u001b[0m\n\u001b[0;32m---> 48\u001b[0;31m                 \u001b[0mpickle\u001b[0m\u001b[0;34m.\u001b[0m\u001b[0mdump\u001b[0m\u001b[0;34m(\u001b[0m\u001b[0mtranslated_subpools\u001b[0m\u001b[0;34m,\u001b[0m \u001b[0mhandle\u001b[0m\u001b[0;34m,\u001b[0m \u001b[0mprotocol\u001b[0m\u001b[0;34m=\u001b[0m\u001b[0mpickle\u001b[0m\u001b[0;34m.\u001b[0m\u001b[0mHIGHEST_PROTOCOL\u001b[0m\u001b[0;34m)\u001b[0m\u001b[0;34m\u001b[0m\u001b[0;34m\u001b[0m\u001b[0m\n\u001b[0m",
      "\u001b[0;31mNameError\u001b[0m: name 'pickle' is not defined"
     ]
    },
    {
     "name": "stderr",
     "output_type": "stream",
     "text": [
      "Exception ignored in: <coroutine object _needs_document_lock.<locals>._needs_document_lock_wrapper at 0x7f06015c86c0>\n",
      "Traceback (most recent call last):\n",
      "  File \"/home/pleung/.conda/envs/crispy/lib/python3.8/site-packages/bokeh/server/session.py\", line 79, in _needs_document_lock_wrapper\n",
      "    await p\n",
      "  File \"/home/pleung/.conda/envs/crispy/lib/python3.8/site-packages/tornado/locks.py\", line 283, in __exit__\n",
      "    self._obj.release()\n",
      "  File \"/home/pleung/.conda/envs/crispy/lib/python3.8/site-packages/tornado/locks.py\", line 483, in release\n",
      "    super().release()\n",
      "  File \"/home/pleung/.conda/envs/crispy/lib/python3.8/site-packages/tornado/locks.py\", line 412, in release\n",
      "    waiter.set_result(_ReleasingContextManager(self))\n",
      "  File \"/home/pleung/.conda/envs/crispy/lib/python3.8/asyncio/base_events.py\", line 719, in call_soon\n",
      "    self._check_closed()\n",
      "  File \"/home/pleung/.conda/envs/crispy/lib/python3.8/asyncio/base_events.py\", line 508, in _check_closed\n",
      "    raise RuntimeError('Event loop is closed')\n",
      "RuntimeError: Event loop is closed\n",
      "Task was destroyed but it is pending!\n",
      "task: <Task pending name='Task-562579' coro=<_needs_document_lock.<locals>._needs_document_lock_wrapper() done, defined at /home/pleung/.conda/envs/crispy/lib/python3.8/site-packages/bokeh/server/session.py:51> wait_for=<Task pending name='Task-562633' coro=<WebSocketProtocol13.write_message.<locals>.wrapper() running at /home/pleung/.conda/envs/crispy/lib/python3.8/site-packages/tornado/websocket.py:1100> cb=[<TaskWakeupMethWrapper object at 0x7f06cc06e340>()]> cb=[multi_future.<locals>.callback() at /home/pleung/.conda/envs/crispy/lib/python3.8/site-packages/tornado/gen.py:520]>\n",
      "/home/pleung/.conda/envs/crispy/lib/python3.8/site-packages/blib2to3/pytree.py:83: RuntimeWarning: coroutine 'WebSocketProtocol13.write_message.<locals>.wrapper' was never awaited\n",
      "  return object.__new__(cls)\n",
      "Task was destroyed but it is pending!\n",
      "task: <Task pending name='Task-562633' coro=<WebSocketProtocol13.write_message.<locals>.wrapper() running at /home/pleung/.conda/envs/crispy/lib/python3.8/site-packages/tornado/websocket.py:1100> cb=[<TaskWakeupMethWrapper object at 0x7f06cc06e340>()]>\n"
     ]
    }
   ],
   "source": [
    "from dask.distributed import Client\n",
    "from dask_jobqueue import SLURMCluster\n",
    "from glob import glob\n",
    "import logging\n",
    "import pwd\n",
    "\n",
    "print(\"run the following from your local terminal:\")\n",
    "print(\n",
    "    f\"ssh -L 8000:localhost:8787 {pwd.getpwuid(os.getuid()).pw_name}@{socket.gethostname()}\"\n",
    ")\n",
    "\n",
    "subpool_futures = {}\n",
    "translated_subpools = {}\n",
    "\n",
    "if __name__ == \"__main__\":\n",
    "    # configure SLURM cluster as a context manager\n",
    "    with SLURMCluster(\n",
    "        cores=1,\n",
    "        processes=1,\n",
    "        job_cpu=1,\n",
    "        memory=\"1GB\",\n",
    "        queue=\"long\",\n",
    "        walltime=\"23:30:00\",\n",
    "        death_timeout=120,\n",
    "        local_directory=\"$TMPDIR/dask\",\n",
    "        log_directory=\"/mnt/home/pleung/logs/slurm_logs\",\n",
    "        extra=[\"--lifetime\", \"23h\", \"--lifetime-stagger\", \"4m\"],\n",
    "    ) as cluster:\n",
    "        print(cluster.job_script())\n",
    "        # scale between 1-50 workers,\n",
    "        cluster.adapt(\n",
    "            minimum=1,\n",
    "            maximum=20,\n",
    "            wait_count=400,  # Number of consecutive times that a worker should be suggested for removal it is removed\n",
    "            interval=\"5s\",  # Time between checks\n",
    "        )\n",
    "        # setup a client to interact with the cluster as a context manager\n",
    "        with Client(cluster) as client:\n",
    "            print(client)\n",
    "            for subpool, df in subpools.items():\n",
    "                future_df = client.submit(df.apply, row2dna, axis=1)\n",
    "                subpool_futures[subpool] = future_df\n",
    "            for subpool, pending in subpool_futures.items():\n",
    "                translated_subpools[subpool] = pending.result()"
   ]
  },
  {
   "cell_type": "markdown",
   "metadata": {},
   "source": [
    "### Save translations and add back into the original dict of subpools"
   ]
  },
  {
   "cell_type": "code",
   "execution_count": null,
   "metadata": {},
   "outputs": [],
   "source": [
    "import pickle\n",
    "\n",
    "output_dir = os.path.join(os.getcwd(), \"05_to_order\")\n",
    "os.makedirs(output_dir, exist_ok=True)\n",
    "with open(os.path.join(output_dir, \"subpools.pkl\"), \"wb\") as handle:\n",
    "    pickle.dump(translated_subpools, handle, protocol=pickle.HIGHEST_PROTOCOL)"
   ]
  },
  {
   "cell_type": "code",
   "execution_count": 5,
   "metadata": {},
   "outputs": [],
   "source": [
    "import pickle\n",
    "\n",
    "output_dir = os.path.join(os.getcwd(), \"05_to_order\")\n",
    "with open(os.path.join(output_dir, \"subpools.pkl\"), \"rb\") as handle:\n",
    "    translated_subpools = pickle.load(handle)"
   ]
  },
  {
   "cell_type": "code",
   "execution_count": 6,
   "metadata": {},
   "outputs": [],
   "source": [
    "df_test = pd.DataFrame(translated_subpools[0])\n",
    "df_test.columns = [\"dna\"]"
   ]
  },
  {
   "cell_type": "code",
   "execution_count": 7,
   "metadata": {},
   "outputs": [],
   "source": [
    "final_subpools = {}\n",
    "for i, translated in translated_subpools.items():\n",
    "    temp_df = pd.DataFrame(translated)\n",
    "    temp_df.columns = [\"dna\"]\n",
    "    final_subpools[i] = pd.concat((subpools[i], temp_df), axis=1)"
   ]
  },
  {
   "cell_type": "markdown",
   "metadata": {},
   "source": [
    "### Add pool adaptors"
   ]
  },
  {
   "cell_type": "code",
   "execution_count": 8,
   "metadata": {},
   "outputs": [],
   "source": [
    "!cp /mnt/home/linnaan/software/LA_OligoOverlapOpt/pool_adaptors_short_list.txt 05_to_order/"
   ]
  },
  {
   "cell_type": "code",
   "execution_count": 9,
   "metadata": {
    "scrolled": true
   },
   "outputs": [
    {
     "name": "stdout",
     "output_type": "stream",
     "text": [
      "0 name\n",
      "1 pETCON_TJ_1\n",
      "2 pETCON_TJ_2\n",
      "3 pETCON_TJ_3\n",
      "4 pETCON_TJ_4\n",
      "5 pETCON_TJ_5\n",
      "6 pETCON_TJ_6\n",
      "7 pETCON_TJ_7\n",
      "8 pETCON_TJ_8\n",
      "9 pETCON_TJ_9\n",
      "10 pETCON_TJ_10\n",
      "11 pETCON_TJ_11\n",
      "12 pETCON_TJ_12\n",
      "13 pETCON_TJ_13\n",
      "14 pETCON_TJ_14\n",
      "15 pETCON_jason_01\n",
      "16 pETCON_jason_02\n",
      "17 pETCON_jason_03\n",
      "18 pETCON_jason_04\n",
      "19 pETCON_jason_05\n",
      "20 pETCON_jason_06\n",
      "21 pETCON_jason_07\n",
      "22 pETCON_jason_08\n",
      "23 pETCON_jason_09\n",
      "24 pETCON_jason_10\n",
      "25 pETCON_jason_11\n",
      "26 pETCON_jason_12\n",
      "27 pETCON_marc1\n",
      "28 pETCON_marc2\n",
      "29 pETCON_marc3\n",
      "30 pETCON_marc4\n",
      "31 pETCON_marc5\n",
      "32 pETCON_marc6\n",
      "33 pETCON_marc7\n",
      "34 GS_TJ_1\n",
      "35 GS_TJ_2\n",
      "36 GS_TJ_3\n",
      "37 GS_TJ_4\n",
      "38 GS_TJ_5\n",
      "39 GS_TJ_6\n",
      "40 GS_TJ_7\n",
      "41 GS_TJ_8\n",
      "42 GS_TJ_9\n",
      "43 GS_TJ_10\n",
      "44 GS_TJ_11\n",
      "45 GS_TJ_12\n",
      "46 GS_TJ_13\n",
      "47 GS_TJ_14\n",
      "48 GS_jason_01\n",
      "49 GS_jason_02\n",
      "50 GS_jason_03\n",
      "51 GS_jason_04\n",
      "52 GS_jason_05\n",
      "53 GS_jason_06\n",
      "54 GS_jason_07\n",
      "55 GS_jason_08\n",
      "56 GS_jason_09\n",
      "57 GS_jason_10\n",
      "58 GS_jason_11\n",
      "59 GS_jason_12\n",
      "60 GS_marc1\n",
      "61 GS_marc2\n",
      "62 GS_marc3\n",
      "63 GS_marc4\n",
      "64 GS_marc5\n",
      "65 GS_marc6\n",
      "66 GS_marc7\n",
      "67 SG_TJ_1\n",
      "68 SG_TJ_2\n",
      "69 SG_TJ_3\n",
      "70 SG_TJ_4\n",
      "71 SG_TJ_5\n",
      "72 SG_TJ_6\n",
      "73 SG_TJ_7\n",
      "74 SG_TJ_8\n",
      "75 SG_TJ_9\n",
      "76 SG_TJ_10\n",
      "77 SG_TJ_11\n",
      "78 SG_TJ_12\n",
      "79 SG_TJ_13\n",
      "80 SG_TJ_14\n",
      "81 SG_jason_01\n",
      "82 SG_jason_02\n",
      "83 SG_jason_03\n",
      "84 SG_jason_04\n",
      "85 SG_jason_05\n",
      "86 SG_jason_06\n",
      "87 SG_jason_07\n",
      "88 SG_jason_08\n",
      "89 SG_jason_09\n",
      "90 SG_jason_10\n",
      "91 SG_jason_11\n",
      "92 SG_jason_12\n",
      "93 SG_marc1\n",
      "94 SG_marc2\n",
      "95 SG_marc3\n",
      "96 SG_marc4\n",
      "97 SG_marc5\n",
      "98 SG_marc6\n",
      "99 SG_marc7\n",
      "100 pBAD_TJ_1\n",
      "101 pBAD_TJ_2\n",
      "102 pBAD_TJ_3\n",
      "103 pBAD_TJ_4\n",
      "104 pBAD_TJ_5\n",
      "105 pBAD_TJ_6\n",
      "106 pBAD_TJ_7\n",
      "107 pBAD_TJ_8\n",
      "108 pBAD_TJ_9\n",
      "109 pBAD_TJ_10\n",
      "110 pBAD_TJ_11\n",
      "111 pBAD_TJ_12\n",
      "112 pBAD_TJ_13\n",
      "113 pBAD_TJ_14\n",
      "114 pBAD_jason_01\n",
      "115 pBAD_jason_02\n",
      "116 pBAD_jason_03\n",
      "117 pBAD_jason_04\n",
      "118 pBAD_jason_05\n",
      "119 pBAD_jason_06\n",
      "120 pBAD_jason_07\n",
      "121 pBAD_jason_08\n",
      "122 pBAD_jason_09\n",
      "123 pBAD_jason_10\n",
      "124 pBAD_jason_11\n",
      "125 pBAD_jason_12\n",
      "126 pBAD_marc1\n",
      "127 pBAD_marc2\n",
      "128 pBAD_marc3\n",
      "129 pBAD_marc4\n",
      "130 pBAD_marc5\n",
      "131 pBAD_marc6\n",
      "132 pBAD_marc7\n"
     ]
    }
   ],
   "source": [
    "primer_list, i = [], 0\n",
    "with open(\"05_to_order/pool_adaptors_short_list.txt\", \"r\") as f:\n",
    "    for line in f:\n",
    "        primer_list.append([i, line.split()[0]])\n",
    "        i += 1\n",
    "    primer_pairs = pd.DataFrame(primer_list, columns=[\"adaptor_number\", \"adaptor_name\"])\n",
    "\n",
    "for _, row in primer_pairs.iterrows():\n",
    "\n",
    "    print(*row.values)"
   ]
  },
  {
   "cell_type": "markdown",
   "metadata": {},
   "source": [
    "### Make commands to use Linna's `two_oligo_assembly.v2.py` to break oligos in half for assembly\n",
    "Make sure to check Tm (after `-min_melt_temp`) and max oligo size `-max_oligo_size`  \n",
    "`OligoOverlapOpt` has the tendency of overestimate the Tm, Tm range between 62 ~ 65 is probably good."
   ]
  },
  {
   "cell_type": "code",
   "execution_count": 10,
   "metadata": {},
   "outputs": [],
   "source": [
    "adaptor_list = [1, 2, 3, 4, 5, 6, 7, 8, 9, 10, 11, 12, 13, 14, 24, 25, 26, 87, 88, 89]\n",
    "cmd_list, dna_file_list = [], []\n",
    "primer_dir = \"/home/linnaan/software/LA_OligoOverlapOpt\"\n",
    "Tm = 63\n",
    "MAX_OLIGO = 300\n",
    "for num, adaptor in enumerate(adaptor_list):\n",
    "    subpool = final_subpools[num]\n",
    "    out_dir = os.path.join(os.getcwd(), \"05_to_order\")\n",
    "    dna_tmp_list = os.path.join(out_dir, f\"dna_tmp_{num}.list\")\n",
    "    with open(dna_tmp_list, \"w\") as f:\n",
    "        for i, row in subpool.iterrows():\n",
    "            line = \" \".join([i, row[\"chA_seq\"], row[\"dna\"]])\n",
    "            print(line, file=f)\n",
    "    cmd = (\n",
    "        f\"cd {out_dir}; python {os.path.join(os.getcwd(), 'two_oligo_assembly.v2.py')} -input_list {dna_tmp_list} \"\n",
    "        + f\"-adaptor_number {adaptor} -nproc 2\"  # use 2 cores\n",
    "        + f\"-min_melt_temp {Tm} -codontable_fname /home/linnaan/software/LA_OligoOverlapOpt/codontable.tab \"\n",
    "        + f\"-adaptor_fname /home/linnaan/software/LA_OligoOverlapOpt/pool_adaptors_short_list.txt -max_oligo_size {MAX_OLIGO}\"\n",
    "    )\n",
    "    cmd_list.append(cmd)"
   ]
  },
  {
   "cell_type": "markdown",
   "metadata": {},
   "source": [
    "### Use dask to submit the commands"
   ]
  },
  {
   "cell_type": "code",
   "execution_count": 234,
   "metadata": {},
   "outputs": [],
   "source": [
    "from dask.distributed import Client\n",
    "from dask_jobqueue import SLURMCluster\n",
    "from glob import glob\n",
    "import logging\n",
    "import pwd\n",
    "import subprocess\n",
    "\n",
    "print(\"run the following from your local terminal:\")\n",
    "print(\n",
    "    f\"ssh -L 8000:localhost:8787 {pwd.getpwuid(os.getuid()).pw_name}@{socket.gethostname()}\"\n",
    ")\n",
    "\n",
    "if __name__ == \"__main__\":\n",
    "    # configure SLURM cluster as a context manager\n",
    "    with SLURMCluster(\n",
    "        processes=1,\n",
    "        job_cpu=2,\n",
    "        memory=\"2GB\",\n",
    "        queue=\"long\",\n",
    "        walltime=\"23:30:00\",\n",
    "        death_timeout=120,\n",
    "        local_directory=\"$TMPDIR/dask\",\n",
    "        log_directory=\"/mnt/home/pleung/logs/slurm_logs\",\n",
    "        extra=[\"--lifetime\", \"23h\", \"--lifetime-stagger\", \"4m\"],\n",
    "    ) as cluster:\n",
    "        print(cluster.job_script())\n",
    "        # scale between 1-20 workers,\n",
    "        cluster.adapt(\n",
    "            minimum=1,\n",
    "            maximum=20,\n",
    "            wait_count=400,  # Number of consecutive times that a worker should be suggested for removal it is removed\n",
    "            interval=\"5s\",  # Time between checks\n",
    "        )\n",
    "        # setup a client to interact with the cluster as a context manager\n",
    "        with Client(cluster) as client:\n",
    "            print(client)\n",
    "            futures = client.map(subprocess.run, cmds)\n",
    "            results = [future.result() for future in futures]"
   ]
  },
  {
   "cell_type": "markdown",
   "metadata": {},
   "source": [
    "- submit to break the oligos"
   ]
  },
  {
   "cell_type": "markdown",
   "metadata": {},
   "source": [
    "## Collect each subpool"
   ]
  },
  {
   "cell_type": "markdown",
   "metadata": {},
   "source": [
    " -  info to name your output files"
   ]
  },
  {
   "cell_type": "code",
   "execution_count": 241,
   "metadata": {},
   "outputs": [
    {
     "name": "stdout",
     "output_type": "stream",
     "text": [
      "1530\n",
      "Order file ready!\n",
      "1466\n",
      "Order file ready!\n",
      "1096\n",
      "Order file ready!\n",
      "1312\n",
      "Order file ready!\n",
      "1428\n",
      "Order file ready!\n"
     ]
    }
   ],
   "source": [
    "CHIP_BATCH = '300ntbatch1'\n",
    "OWNER = 'Linna_An'\n",
    "PROJECT = 'folic_acid' # name with something biofab can understand\n",
    "for num,adaptor in enumerate(adaptor_list):\n",
    "    subpool_dir = PARENT_DIR + f'/subpool_{num}_reverse_translate'\n",
    "    order_file = glob.glob(subpool_dir+'/final_order_large_pool*.tab')[0]\n",
    "    fp = open(order_file,'r')\n",
    "    seq_list = [line.split()[-1].rstrip() for line in fp]\n",
    "    fp.close()\n",
    "    print(f'total number of oligo: {len(seq_list)}')\n",
    "    fp = open(subpool_dir+'/'+ '_'.join([OWNER,PROJECT,str(num),CHIP_BATCH]),'w')\n",
    "    fp.write('\\n'.join(seq_list))\n",
    "    fp.close()\n",
    "    print('Order file ready!')"
   ]
  },
  {
   "cell_type": "markdown",
   "metadata": {},
   "source": [
    "## Concatenate your subpools"
   ]
  },
  {
   "cell_type": "code",
   "execution_count": 8,
   "metadata": {},
   "outputs": [
    {
     "name": "stdout",
     "output_type": "stream",
     "text": [
      "Total number of Oligo 4756\n",
      "Write into file Linna_An_folic_acid_300ntbatch2.\n"
     ]
    },
    {
     "data": {
      "text/plain": [
       "Text(0, 0.5, 'counts')"
      ]
     },
     "execution_count": 8,
     "metadata": {},
     "output_type": "execute_result"
    },
    {
     "data": {
      "image/png": "[encoded data removed]",
      "text/plain": [
       "<Figure size 432x288 with 1 Axes>"
      ]
     },
     "metadata": {
      "needs_background": "light"
     },
     "output_type": "display_data"
    }
   ],
   "source": [
    "oligo_list = []\n",
    "length_list = []\n",
    "for num,subpool_dir in enumerate(glob.glob(PARENT_DIR + '/subpool_*_reverse_translate')):\n",
    "    os.chdir(subpool_dir)\n",
    "    order_file = glob.glob(subpool_dir+f'/{OWNER}_{PROJECT}_*_{CHIP_BATCH}')[0]\n",
    "    fp = open(order_file,'r')\n",
    "    for line in fp:\n",
    "        oligo_list.append(line.rstrip())\n",
    "        length_list.append(len(line.rstrip()))\n",
    "    fp.close()\n",
    "print(f'Total number of Oligo {len(oligo_list)}')\n",
    "fp = open(PARENT_DIR + f'/{OWNER}_{PROJECT}_{CHIP_BATCH}','w')\n",
    "fp.write('\\n'.join(oligo_list))\n",
    "fp.close()\n",
    "print(f'Write into file {OWNER}_{PROJECT}_{CHIP_BATCH}.')\n",
    "\n",
    "plt.hist(length_list)\n",
    "plt.title('Oligo length distribution')\n",
    "plt.xlabel('length')\n",
    "plt.ylabel('counts')"
   ]
  },
  {
   "cell_type": "code",
   "execution_count": null,
   "metadata": {},
   "outputs": [],
   "source": []
  },
  {
   "cell_type": "markdown",
   "metadata": {},
   "source": [
    "### Unused blocks"
   ]
  },
  {
   "cell_type": "code",
   "execution_count": null,
   "metadata": {
    "scrolled": true
   },
   "outputs": [],
   "source": [
    "%%time\n",
    "import pyrosetta\n",
    "from pyrosetta.distributed import cluster\n",
    "import pyrosetta.distributed.io as io\n",
    "\n",
    "flags = \"\"\"\n",
    "-out:level 300\n",
    "-precompute_ig true\n",
    "-detect_disulf false\n",
    "-corrections::beta_nov16 true\n",
    "-holes:dalphaball /home/bcov/ppi/tutorial_build/main/source/external/DAlpahBall/DAlphaBall.gcc\n",
    "-indexed_structure_store:fragment_store /net/databases/VALL_clustered/connect_chains/ss_grouped_vall_helix_shortLoop.h5\n",
    "\"\"\"\n",
    "# pyrosetta.distributed.init(\" \".join(flags.replace(\"\\n\\t\", \" \").split()))\n",
    "pyrosetta.init(\" \".join(flags.replace(\"\\n\\t\", \" \").split()))\n",
    "\n",
    "t = finalize_design(\n",
    "    None,\n",
    "    **{\n",
    "        \"-s\": \"/mnt/home/pleung/projects/peptide_binders/r0/peptide_binders/03_detail_0/0081/47f6c6fcb6d1e9c788e002cfeb798d0bfbc3f514e73931c8.pdb.bz2\",\n",
    "#         \"-s\": \"/mnt/home/pleung/projects/peptide_binders/r0/peptide_binders/03_detail_0/0018/8aeb40fd33d90cbae3429aac01b14b7f45a054268e56fea7.pdb.bz2\",\n",
    "    }\n",
    ")"
   ]
  }
 ],
 "metadata": {
  "kernelspec": {
   "display_name": "crispy (3.8.10)",
   "language": "python",
   "name": "crispy"
  },
  "language_info": {
   "codemirror_mode": {
    "name": "ipython",
    "version": 3
   },
   "file_extension": ".py",
   "mimetype": "text/x-python",
   "name": "python",
   "nbconvert_exporter": "python",
   "pygments_lexer": "ipython3",
   "version": "3.8.10"
  }
 },
 "nbformat": 4,
 "nbformat_minor": 4
}

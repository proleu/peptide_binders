{
 "cells": [
  {
   "cell_type": "markdown",
   "metadata": {},
   "source": [
    "## Prepare samples for chip order\n",
    "- Author: Linna An\n",
    "- version: 2021, Feb 11th\n",
    "    - fix error on pandas\n",
    "- Acknowledge: Chris Norn, Gyu Rie Lee\n",
    "- 1. This notebook prepared for samples which require 2-piece assembly\n",
    "- 2. Material: all pdbs for order\n",
    "- 3. Rough Steps:\n",
    "    1. pdbs will be translated into amino acid sequences\n",
    "    2. aa sequences will be sorted into different subpools (1000 sequence each) based on length\n",
    "    3. Within each subpool, sequences will be pad to the same length\n",
    "    4. Each subpool will be translated to DNA sequences\n",
    "    5. Each translated subpool will be added with required adaptors\n",
    "    6. Each prepared subpool will be measured for its overlap diversity"
   ]
  },
  {
   "cell_type": "code",
   "execution_count": 2,
   "metadata": {},
   "outputs": [
    {
     "data": {
      "text/html": [
       "<style>.container { width:100% !important; }</style>"
      ],
      "text/plain": [
       "<IPython.core.display.HTML object>"
      ]
     },
     "metadata": {},
     "output_type": "display_data"
    }
   ],
   "source": [
    "import pandas as pd\n",
    "import matplotlib\n",
    "import matplotlib.pyplot as plt\n",
    "import seaborn as sns\n",
    "from collections import Counter\n",
    "import numpy as np\n",
    "import os, subprocess, glob, re, gzip, math, shutil, itertools, sys, time, math, string\n",
    "from shutil import copyfile\n",
    "from numpy import *\n",
    "from numpy import linalg\n",
    "sys.path.append('/home/linnaan/lib/')\n",
    "from libSlurm_public import make_submit_file #version not containing email alert\n",
    "from libSlurm_public import make_dist_plots\n",
    "\n",
    "from IPython.core.display import display, HTML\n",
    "display(HTML(\"<style>.container { width:100% !important; }</style>\"))\n",
    "from IPython.display import IFrame"
   ]
  },
  {
   "cell_type": "markdown",
   "metadata": {},
   "source": [
    "- Provide directory containing all directories storing all pdbs to order"
   ]
  },
  {
   "cell_type": "code",
   "execution_count": 236,
   "metadata": {},
   "outputs": [
    {
     "data": {
      "text/plain": [
       "'/mnt/home/linnaan/NTF2/FOL_NTF2_binder/for_order/210118_batch1_agilent'"
      ]
     },
     "execution_count": 236,
     "metadata": {},
     "output_type": "execute_result"
    }
   ],
   "source": [
    "PARENT_DIR = '/home/linnaan/NTF2/FOL_NTF2_binder/for_order/210118_batch1_agilent'\n",
    "os.chdir(PARENT_DIR)\n",
    "%pwd"
   ]
  },
  {
   "cell_type": "markdown",
   "metadata": {},
   "source": [
    "### Translate designs from pdb to sequences"
   ]
  },
  {
   "cell_type": "code",
   "execution_count": 218,
   "metadata": {},
   "outputs": [],
   "source": [
    "def translate(pdb):\n",
    "    PDB2SEQ = '/home/linnaan/software/pdb2seq'\n",
    "    result = subprocess.run([PDB2SEQ,pdb], stdout=subprocess.PIPE)\n",
    "    aa_seq = result.stdout.decode('utf-8').rstrip()\n",
    "    aa_length = len(aa_seq)\n",
    "    return aa_seq, aa_length"
   ]
  },
  {
   "cell_type": "markdown",
   "metadata": {},
   "source": [
    "- Go through each sub-directory, translate all designs into pdb sequences, and save in a single file"
   ]
  },
  {
   "cell_type": "code",
   "execution_count": 219,
   "metadata": {},
   "outputs": [],
   "source": [
    "pdb_list = []\n",
    "for num,pdb in enumerate(glob.glob('./*/*.pdb')):\n",
    "    aa_seq, aa_length = translate(pdb)\n",
    "    pdb_list.append([pdb,aa_seq,aa_length])\n",
    "df = pd.DataFrame(pdb_list,columns=['design','seq','length'])"
   ]
  },
  {
   "cell_type": "code",
   "execution_count": 220,
   "metadata": {},
   "outputs": [
    {
     "data": {
      "text/html": [
       "<div>\n",
       "<style scoped>\n",
       "    .dataframe tbody tr th:only-of-type {\n",
       "        vertical-align: middle;\n",
       "    }\n",
       "\n",
       "    .dataframe tbody tr th {\n",
       "        vertical-align: top;\n",
       "    }\n",
       "\n",
       "    .dataframe thead th {\n",
       "        text-align: right;\n",
       "    }\n",
       "</style>\n",
       "<table border=\"1\" class=\"dataframe\">\n",
       "  <thead>\n",
       "    <tr style=\"text-align: right;\">\n",
       "      <th></th>\n",
       "      <th>design</th>\n",
       "      <th>seq</th>\n",
       "      <th>length</th>\n",
       "    </tr>\n",
       "  </thead>\n",
       "  <tbody>\n",
       "    <tr>\n",
       "      <th>6673</th>\n",
       "      <td>./201203_NTF2hb_FOL_resample_sel_lddt0.8/326_H...</td>\n",
       "      <td>PDERKIKDWIRRYLEALDRKDLDELKELFTKDWTFHETGGRTFTNI...</td>\n",
       "      <td>121</td>\n",
       "    </tr>\n",
       "    <tr>\n",
       "      <th>6674</th>\n",
       "      <td>./201203_NTF2hb_FOL_resample_sel_lddt0.8/329_H...</td>\n",
       "      <td>MSQEEVKELLKRFYEALNQRDADKAASLFTPDATVHFFHGSQQDDI...</td>\n",
       "      <td>123</td>\n",
       "    </tr>\n",
       "    <tr>\n",
       "      <th>6675</th>\n",
       "      <td>./201203_NTF2hb_FOL_resample_sel_lddt0.8/70_Y8...</td>\n",
       "      <td>DSEEQIKELIKEFYRAINERDLDALSELLHDDAQLHQSNGQTFDNK...</td>\n",
       "      <td>119</td>\n",
       "    </tr>\n",
       "    <tr>\n",
       "      <th>6676</th>\n",
       "      <td>./201203_NTF2hb_FOL_resample_sel_lddt0.8/221_H...</td>\n",
       "      <td>PASEEEIREWLKQFYEAFNNKDWKKLADLMAPDARMEVTESNGQNY...</td>\n",
       "      <td>124</td>\n",
       "    </tr>\n",
       "    <tr>\n",
       "      <th>6677</th>\n",
       "      <td>./201203_NTF2hb_FOL_resample_sel_lddt0.8/413_H...</td>\n",
       "      <td>PDEKEMEEEVREFDKRRVEAINNRDLEKVKSLVHPDATFRLARTQK...</td>\n",
       "      <td>128</td>\n",
       "    </tr>\n",
       "  </tbody>\n",
       "</table>\n",
       "</div>"
      ],
      "text/plain": [
       "                                                 design  \\\n",
       "6673  ./201203_NTF2hb_FOL_resample_sel_lddt0.8/326_H...   \n",
       "6674  ./201203_NTF2hb_FOL_resample_sel_lddt0.8/329_H...   \n",
       "6675  ./201203_NTF2hb_FOL_resample_sel_lddt0.8/70_Y8...   \n",
       "6676  ./201203_NTF2hb_FOL_resample_sel_lddt0.8/221_H...   \n",
       "6677  ./201203_NTF2hb_FOL_resample_sel_lddt0.8/413_H...   \n",
       "\n",
       "                                                    seq  length  \n",
       "6673  PDERKIKDWIRRYLEALDRKDLDELKELFTKDWTFHETGGRTFTNI...     121  \n",
       "6674  MSQEEVKELLKRFYEALNQRDADKAASLFTPDATVHFFHGSQQDDI...     123  \n",
       "6675  DSEEQIKELIKEFYRAINERDLDALSELLHDDAQLHQSNGQTFDNK...     119  \n",
       "6676  PASEEEIREWLKQFYEAFNNKDWKKLADLMAPDARMEVTESNGQNY...     124  \n",
       "6677  PDEKEMEEEVREFDKRRVEAINNRDLEKVKSLVHPDATFRLARTQK...     128  "
      ]
     },
     "execution_count": 220,
     "metadata": {},
     "output_type": "execute_result"
    }
   ],
   "source": [
    "df.tail()"
   ]
  },
  {
   "cell_type": "code",
   "execution_count": 221,
   "metadata": {},
   "outputs": [],
   "source": [
    "df.to_csv('./all_pdb')"
   ]
  },
  {
   "cell_type": "code",
   "execution_count": 222,
   "metadata": {},
   "outputs": [
    {
     "name": "stdout",
     "output_type": "stream",
     "text": [
      "3997\n",
      "3997\n"
     ]
    },
    {
     "data": {
      "text/html": [
       "<div>\n",
       "<style scoped>\n",
       "    .dataframe tbody tr th:only-of-type {\n",
       "        vertical-align: middle;\n",
       "    }\n",
       "\n",
       "    .dataframe tbody tr th {\n",
       "        vertical-align: top;\n",
       "    }\n",
       "\n",
       "    .dataframe thead th {\n",
       "        text-align: right;\n",
       "    }\n",
       "</style>\n",
       "<table border=\"1\" class=\"dataframe\">\n",
       "  <thead>\n",
       "    <tr style=\"text-align: right;\">\n",
       "      <th></th>\n",
       "      <th>design</th>\n",
       "      <th>seq</th>\n",
       "      <th>length</th>\n",
       "    </tr>\n",
       "  </thead>\n",
       "  <tbody>\n",
       "    <tr>\n",
       "      <th>0</th>\n",
       "      <td>./210112_NTF2_FOL_TD_triad_sel_lddt0.8_part1/9...</td>\n",
       "      <td>PGEETAEEQIREWKKRFIEAENNNDRDKVKELLTDDATFHMGDGRT...</td>\n",
       "      <td>125</td>\n",
       "    </tr>\n",
       "    <tr>\n",
       "      <th>1</th>\n",
       "      <td>./210112_NTF2_FOL_TD_triad_sel_lddt0.8_part1/8...</td>\n",
       "      <td>PEEDEMKEAVKKILQRLSEALNRGDAEAIARLLDEDWTFHDAEPRT...</td>\n",
       "      <td>125</td>\n",
       "    </tr>\n",
       "    <tr>\n",
       "      <th>2</th>\n",
       "      <td>./210112_NTF2_FOL_TD_triad_sel_lddt0.8_part1/1...</td>\n",
       "      <td>PGEETAEEQIREWKKRFIEAENNNDRDKVKELLTDDATFHDAQGQT...</td>\n",
       "      <td>125</td>\n",
       "    </tr>\n",
       "    <tr>\n",
       "      <th>3</th>\n",
       "      <td>./210112_NTF2_FOL_TD_triad_sel_lddt0.8_part1/2...</td>\n",
       "      <td>PKEKEMEEKVREIKKQQIEALNKNDWDTFKKLMDDSTMHIPFRGRT...</td>\n",
       "      <td>125</td>\n",
       "    </tr>\n",
       "    <tr>\n",
       "      <th>4</th>\n",
       "      <td>./210112_NTF2_FOL_TD_triad_sel_lddt0.8_part1/5...</td>\n",
       "      <td>PKEKEMEEKVREIKKQLDEALNKNDWDTFKKLMDDSTMHIPDRGRT...</td>\n",
       "      <td>125</td>\n",
       "    </tr>\n",
       "    <tr>\n",
       "      <th>...</th>\n",
       "      <td>...</td>\n",
       "      <td>...</td>\n",
       "      <td>...</td>\n",
       "    </tr>\n",
       "    <tr>\n",
       "      <th>6673</th>\n",
       "      <td>./201203_NTF2hb_FOL_resample_sel_lddt0.8/326_H...</td>\n",
       "      <td>PDERKIKDWIRRYLEALDRKDLDELKELFTKDWTFHETGGRTFTNI...</td>\n",
       "      <td>121</td>\n",
       "    </tr>\n",
       "    <tr>\n",
       "      <th>6674</th>\n",
       "      <td>./201203_NTF2hb_FOL_resample_sel_lddt0.8/329_H...</td>\n",
       "      <td>MSQEEVKELLKRFYEALNQRDADKAASLFTPDATVHFFHGSQQDDI...</td>\n",
       "      <td>123</td>\n",
       "    </tr>\n",
       "    <tr>\n",
       "      <th>6675</th>\n",
       "      <td>./201203_NTF2hb_FOL_resample_sel_lddt0.8/70_Y8...</td>\n",
       "      <td>DSEEQIKELIKEFYRAINERDLDALSELLHDDAQLHQSNGQTFDNK...</td>\n",
       "      <td>119</td>\n",
       "    </tr>\n",
       "    <tr>\n",
       "      <th>6676</th>\n",
       "      <td>./201203_NTF2hb_FOL_resample_sel_lddt0.8/221_H...</td>\n",
       "      <td>PASEEEIREWLKQFYEAFNNKDWKKLADLMAPDARMEVTESNGQNY...</td>\n",
       "      <td>124</td>\n",
       "    </tr>\n",
       "    <tr>\n",
       "      <th>6677</th>\n",
       "      <td>./201203_NTF2hb_FOL_resample_sel_lddt0.8/413_H...</td>\n",
       "      <td>PDEKEMEEEVREFDKRRVEAINNRDLEKVKSLVHPDATFRLARTQK...</td>\n",
       "      <td>128</td>\n",
       "    </tr>\n",
       "  </tbody>\n",
       "</table>\n",
       "<p>3997 rows × 3 columns</p>\n",
       "</div>"
      ],
      "text/plain": [
       "                                                 design  \\\n",
       "0     ./210112_NTF2_FOL_TD_triad_sel_lddt0.8_part1/9...   \n",
       "1     ./210112_NTF2_FOL_TD_triad_sel_lddt0.8_part1/8...   \n",
       "2     ./210112_NTF2_FOL_TD_triad_sel_lddt0.8_part1/1...   \n",
       "3     ./210112_NTF2_FOL_TD_triad_sel_lddt0.8_part1/2...   \n",
       "4     ./210112_NTF2_FOL_TD_triad_sel_lddt0.8_part1/5...   \n",
       "...                                                 ...   \n",
       "6673  ./201203_NTF2hb_FOL_resample_sel_lddt0.8/326_H...   \n",
       "6674  ./201203_NTF2hb_FOL_resample_sel_lddt0.8/329_H...   \n",
       "6675  ./201203_NTF2hb_FOL_resample_sel_lddt0.8/70_Y8...   \n",
       "6676  ./201203_NTF2hb_FOL_resample_sel_lddt0.8/221_H...   \n",
       "6677  ./201203_NTF2hb_FOL_resample_sel_lddt0.8/413_H...   \n",
       "\n",
       "                                                    seq  length  \n",
       "0     PGEETAEEQIREWKKRFIEAENNNDRDKVKELLTDDATFHMGDGRT...     125  \n",
       "1     PEEDEMKEAVKKILQRLSEALNRGDAEAIARLLDEDWTFHDAEPRT...     125  \n",
       "2     PGEETAEEQIREWKKRFIEAENNNDRDKVKELLTDDATFHDAQGQT...     125  \n",
       "3     PKEKEMEEKVREIKKQQIEALNKNDWDTFKKLMDDSTMHIPFRGRT...     125  \n",
       "4     PKEKEMEEKVREIKKQLDEALNKNDWDTFKKLMDDSTMHIPDRGRT...     125  \n",
       "...                                                 ...     ...  \n",
       "6673  PDERKIKDWIRRYLEALDRKDLDELKELFTKDWTFHETGGRTFTNI...     121  \n",
       "6674  MSQEEVKELLKRFYEALNQRDADKAASLFTPDATVHFFHGSQQDDI...     123  \n",
       "6675  DSEEQIKELIKEFYRAINERDLDALSELLHDDAQLHQSNGQTFDNK...     119  \n",
       "6676  PASEEEIREWLKQFYEAFNNKDWKKLADLMAPDARMEVTESNGQNY...     124  \n",
       "6677  PDEKEMEEEVREFDKRRVEAINNRDLEKVKSLVHPDATFRLARTQK...     128  \n",
       "\n",
       "[3997 rows x 3 columns]"
      ]
     },
     "execution_count": 222,
     "metadata": {},
     "output_type": "execute_result"
    }
   ],
   "source": [
    "#remove duplicate\n",
    "df = df.drop_duplicates(subset='seq')\n",
    "print(len(df))\n",
    "df.to_csv('./all_pdb_nonredundant')\n",
    "print(len(df))\n",
    "df"
   ]
  },
  {
   "cell_type": "markdown",
   "metadata": {},
   "source": [
    "### Split to different subpools"
   ]
  },
  {
   "cell_type": "code",
   "execution_count": 223,
   "metadata": {},
   "outputs": [
    {
     "name": "stdout",
     "output_type": "stream",
     "text": [
      "3997\n"
     ]
    },
    {
     "data": {
      "text/html": [
       "<div>\n",
       "<style scoped>\n",
       "    .dataframe tbody tr th:only-of-type {\n",
       "        vertical-align: middle;\n",
       "    }\n",
       "\n",
       "    .dataframe tbody tr th {\n",
       "        vertical-align: top;\n",
       "    }\n",
       "\n",
       "    .dataframe thead th {\n",
       "        text-align: right;\n",
       "    }\n",
       "</style>\n",
       "<table border=\"1\" class=\"dataframe\">\n",
       "  <thead>\n",
       "    <tr style=\"text-align: right;\">\n",
       "      <th></th>\n",
       "      <th>design</th>\n",
       "      <th>seq</th>\n",
       "      <th>length</th>\n",
       "    </tr>\n",
       "  </thead>\n",
       "  <tbody>\n",
       "    <tr>\n",
       "      <th>6546</th>\n",
       "      <td>./201203_NTF2hb_FOL_resample_sel_lddt0.8/106_H...</td>\n",
       "      <td>ASEEEIRELIRRLVEAFNKGDMDAIKELYDDGATVHINNGRTFTSK...</td>\n",
       "      <td>113</td>\n",
       "    </tr>\n",
       "    <tr>\n",
       "      <th>6502</th>\n",
       "      <td>./201203_NTF2hb_FOL_resample_sel_lddt0.8/184_H...</td>\n",
       "      <td>PDTEEIERFVRRFIEEVDKSGDADAAKSYYDKDARIDFSGGQTYSL...</td>\n",
       "      <td>113</td>\n",
       "    </tr>\n",
       "    <tr>\n",
       "      <th>5978</th>\n",
       "      <td>./201203_NTF2hb_FOL_resample_sel_lddt0.8/324_H...</td>\n",
       "      <td>TSEEEIREAVQRYYEAWNHKDMDKLLSLIHDDWQNDVYNLTTKEEY...</td>\n",
       "      <td>113</td>\n",
       "    </tr>\n",
       "    <tr>\n",
       "      <th>6131</th>\n",
       "      <td>./201203_NTF2hb_FOL_resample_sel_lddt0.8/25_H9...</td>\n",
       "      <td>ASEEEIRELIRRLVEAFNKGDMDAIKELYDDGATVHFWNGRTFTSK...</td>\n",
       "      <td>113</td>\n",
       "    </tr>\n",
       "    <tr>\n",
       "      <th>5883</th>\n",
       "      <td>./201203_NTF2hb_FOL_resample_sel_lddt0.8/281_H...</td>\n",
       "      <td>PISEEQIKEWVKRWVEAFNKGDMDKLMSLYSEGSRFHNSATGKTYD...</td>\n",
       "      <td>114</td>\n",
       "    </tr>\n",
       "    <tr>\n",
       "      <th>...</th>\n",
       "      <td>...</td>\n",
       "      <td>...</td>\n",
       "      <td>...</td>\n",
       "    </tr>\n",
       "    <tr>\n",
       "      <th>2831</th>\n",
       "      <td>./201215_NTF2_FOL_PDBrif_sel_lddt0.8/267_S125_...</td>\n",
       "      <td>MDESEAKEAIKEWLRRYYEAWNKGDADALRELLHPDVTFHFSSEGQ...</td>\n",
       "      <td>131</td>\n",
       "    </tr>\n",
       "    <tr>\n",
       "      <th>5527</th>\n",
       "      <td>./201203_NTF2hb_FOL_sel_lddt0.8/171_H107_N4.18...</td>\n",
       "      <td>PGEEEARRQAEEIARRFYEALNNKDWEAIARLVDDNAKFTFTEDQR...</td>\n",
       "      <td>131</td>\n",
       "    </tr>\n",
       "    <tr>\n",
       "      <th>5973</th>\n",
       "      <td>./201203_NTF2hb_FOL_resample_sel_lddt0.8/281_H...</td>\n",
       "      <td>ASEKELREAVREWLRRYYEALNHKDLDKVVSLFDDDWRVDFSKTGK...</td>\n",
       "      <td>132</td>\n",
       "    </tr>\n",
       "    <tr>\n",
       "      <th>6672</th>\n",
       "      <td>./201203_NTF2hb_FOL_resample_sel_lddt0.8/388_H...</td>\n",
       "      <td>ASEKELREAVREWLRRYYEALNHKDLDKVVSLFDDDWRVDISETGK...</td>\n",
       "      <td>132</td>\n",
       "    </tr>\n",
       "    <tr>\n",
       "      <th>6130</th>\n",
       "      <td>./201203_NTF2hb_FOL_resample_sel_lddt0.8/281_H...</td>\n",
       "      <td>TSEEEIREAVKDWVRRYFEALNHGDVDAVASLYADDARLTDASTGQ...</td>\n",
       "      <td>132</td>\n",
       "    </tr>\n",
       "  </tbody>\n",
       "</table>\n",
       "<p>3997 rows × 3 columns</p>\n",
       "</div>"
      ],
      "text/plain": [
       "                                                 design  \\\n",
       "6546  ./201203_NTF2hb_FOL_resample_sel_lddt0.8/106_H...   \n",
       "6502  ./201203_NTF2hb_FOL_resample_sel_lddt0.8/184_H...   \n",
       "5978  ./201203_NTF2hb_FOL_resample_sel_lddt0.8/324_H...   \n",
       "6131  ./201203_NTF2hb_FOL_resample_sel_lddt0.8/25_H9...   \n",
       "5883  ./201203_NTF2hb_FOL_resample_sel_lddt0.8/281_H...   \n",
       "...                                                 ...   \n",
       "2831  ./201215_NTF2_FOL_PDBrif_sel_lddt0.8/267_S125_...   \n",
       "5527  ./201203_NTF2hb_FOL_sel_lddt0.8/171_H107_N4.18...   \n",
       "5973  ./201203_NTF2hb_FOL_resample_sel_lddt0.8/281_H...   \n",
       "6672  ./201203_NTF2hb_FOL_resample_sel_lddt0.8/388_H...   \n",
       "6130  ./201203_NTF2hb_FOL_resample_sel_lddt0.8/281_H...   \n",
       "\n",
       "                                                    seq  length  \n",
       "6546  ASEEEIRELIRRLVEAFNKGDMDAIKELYDDGATVHINNGRTFTSK...     113  \n",
       "6502  PDTEEIERFVRRFIEEVDKSGDADAAKSYYDKDARIDFSGGQTYSL...     113  \n",
       "5978  TSEEEIREAVQRYYEAWNHKDMDKLLSLIHDDWQNDVYNLTTKEEY...     113  \n",
       "6131  ASEEEIRELIRRLVEAFNKGDMDAIKELYDDGATVHFWNGRTFTSK...     113  \n",
       "5883  PISEEQIKEWVKRWVEAFNKGDMDKLMSLYSEGSRFHNSATGKTYD...     114  \n",
       "...                                                 ...     ...  \n",
       "2831  MDESEAKEAIKEWLRRYYEAWNKGDADALRELLHPDVTFHFSSEGQ...     131  \n",
       "5527  PGEEEARRQAEEIARRFYEALNNKDWEAIARLVDDNAKFTFTEDQR...     131  \n",
       "5973  ASEKELREAVREWLRRYYEALNHKDLDKVVSLFDDDWRVDFSKTGK...     132  \n",
       "6672  ASEKELREAVREWLRRYYEALNHKDLDKVVSLFDDDWRVDISETGK...     132  \n",
       "6130  TSEEEIREAVKDWVRRYFEALNHGDVDAVASLYADDARLTDASTGQ...     132  \n",
       "\n",
       "[3997 rows x 3 columns]"
      ]
     },
     "execution_count": 223,
     "metadata": {},
     "output_type": "execute_result"
    }
   ],
   "source": [
    "# change order based on length\n",
    "df = df.sort_values(by='length',ascending=True)\n",
    "print(len(df))\n",
    "df"
   ]
  },
  {
   "cell_type": "code",
   "execution_count": 224,
   "metadata": {},
   "outputs": [
    {
     "name": "stderr",
     "output_type": "stream",
     "text": [
      "/software/conda/envs/pyrosetta/lib/python3.7/site-packages/seaborn/distributions.py:2557: FutureWarning: `distplot` is a deprecated function and will be removed in a future version. Please adapt your code to use either `displot` (a figure-level function with similar flexibility) or `histplot` (an axes-level function for histograms).\n",
      "  warnings.warn(msg, FutureWarning)\n"
     ]
    },
    {
     "data": {
      "image/png": "[encoded data removed]",
      "text/plain": [
       "<Figure size 1080x216 with 3 Axes>"
      ]
     },
     "metadata": {
      "needs_background": "light"
     },
     "output_type": "display_data"
    }
   ],
   "source": [
    "#check aa length distribution\n",
    "make_dist_plots(df,['length'])"
   ]
  },
  {
   "cell_type": "markdown",
   "metadata": {},
   "source": [
    "### decide subpools based on total length and legth distribution\n",
    "- each subpool (aka oligos with the same adaptors) should less than 1000 oligos. To many oligos will decrease assembly effciency.\n",
    "- the smaller each pool, the better, but don't do too small, since it will take long time PCR to enrich your libraries."
   ]
  },
  {
   "cell_type": "code",
   "execution_count": 225,
   "metadata": {},
   "outputs": [],
   "source": [
    "def merge_length(df_in):\n",
    "    '''\n",
    "    pad all sequences in each subpool to the same length as the max of the design in that subpool\n",
    "    '''\n",
    "    linker = 'GSSGGSSGGSSG'\n",
    "    min_length,max_length = list(df_in['length'])[0],list(df_in['length'])[-1]\n",
    "    for num,pdb in enumerate(list(df_in['design'])):\n",
    "        length = df_in.loc[num].at['length']\n",
    "        if length != max_length:\n",
    "            orig_seq = df_in.loc[num].at['seq']\n",
    "            new_seq = orig_seq + linker[0:(max_length-length)]\n",
    "            df_in.iloc[num,df_in.columns.get_loc('seq')] = new_seq\n",
    "            df_in.iloc[num,df_in.columns.get_loc('length')] = len(new_seq)\n",
    "    return df_in"
   ]
  },
  {
   "cell_type": "code",
   "execution_count": 226,
   "metadata": {},
   "outputs": [
    {
     "name": "stdout",
     "output_type": "stream",
     "text": [
      "--------process seq 0 ~ 799 ------\n",
      "subpool size: 799\n",
      "Before padding: min 113 max 120\n",
      "after padding: min 120 max 120\n",
      "--------process seq 799 ~ 1598 ------\n",
      "subpool size: 799\n",
      "Before padding: min 120 max 123\n",
      "after padding: min 123 max 123\n",
      "--------process seq 1598 ~ 2397 ------\n",
      "subpool size: 799\n",
      "Before padding: min 123 max 126\n",
      "after padding: min 126 max 126\n",
      "--------process seq 2397 ~ 3197 ------\n",
      "subpool size: 800\n",
      "Before padding: min 126 max 129\n",
      "after padding: min 129 max 129\n",
      "--------process seq 3197 ~ 3997 ------\n",
      "subpool size: 800\n",
      "Before padding: min 129 max 132\n",
      "after padding: min 132 max 132\n"
     ]
    },
    {
     "data": {
      "text/html": [
       "<div>\n",
       "<style scoped>\n",
       "    .dataframe tbody tr th:only-of-type {\n",
       "        vertical-align: middle;\n",
       "    }\n",
       "\n",
       "    .dataframe tbody tr th {\n",
       "        vertical-align: top;\n",
       "    }\n",
       "\n",
       "    .dataframe thead th {\n",
       "        text-align: right;\n",
       "    }\n",
       "</style>\n",
       "<table border=\"1\" class=\"dataframe\">\n",
       "  <thead>\n",
       "    <tr style=\"text-align: right;\">\n",
       "      <th></th>\n",
       "      <th>index</th>\n",
       "      <th>design</th>\n",
       "      <th>seq</th>\n",
       "      <th>length</th>\n",
       "    </tr>\n",
       "  </thead>\n",
       "  <tbody>\n",
       "    <tr>\n",
       "      <th>270</th>\n",
       "      <td>6440</td>\n",
       "      <td>./201203_NTF2hb_FOL_resample_sel_lddt0.8/61_H9...</td>\n",
       "      <td>NSEEELKEQIKEFIKREMEAIDKGDADAWLSLFDEDVTITQNGNTR...</td>\n",
       "      <td>132</td>\n",
       "    </tr>\n",
       "    <tr>\n",
       "      <th>271</th>\n",
       "      <td>332</td>\n",
       "      <td>./210112_NTF2_FOL_TD_triad_sel_lddt0.8_part1/1...</td>\n",
       "      <td>ASEEEAKEQIRQFKRALVEAINKGDWEALERLITPGATFHHQSGET...</td>\n",
       "      <td>132</td>\n",
       "    </tr>\n",
       "    <tr>\n",
       "      <th>272</th>\n",
       "      <td>331</td>\n",
       "      <td>./210112_NTF2_FOL_TD_triad_sel_lddt0.8_part1/4...</td>\n",
       "      <td>ASEEEAKEQIRQFKRALVEAINKGDWEALERLITPGATFHHQSGET...</td>\n",
       "      <td>132</td>\n",
       "    </tr>\n",
       "    <tr>\n",
       "      <th>262</th>\n",
       "      <td>3304</td>\n",
       "      <td>./201215_NTF2_FOL_PDBrif_sel_lddt0.8/409_K122_...</td>\n",
       "      <td>PSEEELKERVKEWIHREVEALNKGDWEAWKRMFHPGAQFHLNNEQQ...</td>\n",
       "      <td>132</td>\n",
       "    </tr>\n",
       "    <tr>\n",
       "      <th>799</th>\n",
       "      <td>6130</td>\n",
       "      <td>./201203_NTF2hb_FOL_resample_sel_lddt0.8/281_H...</td>\n",
       "      <td>TSEEEIREAVKDWVRRYFEALNHGDVDAVASLYADDARLTDASTGQ...</td>\n",
       "      <td>132</td>\n",
       "    </tr>\n",
       "  </tbody>\n",
       "</table>\n",
       "</div>"
      ],
      "text/plain": [
       "     index                                             design  \\\n",
       "270   6440  ./201203_NTF2hb_FOL_resample_sel_lddt0.8/61_H9...   \n",
       "271    332  ./210112_NTF2_FOL_TD_triad_sel_lddt0.8_part1/1...   \n",
       "272    331  ./210112_NTF2_FOL_TD_triad_sel_lddt0.8_part1/4...   \n",
       "262   3304  ./201215_NTF2_FOL_PDBrif_sel_lddt0.8/409_K122_...   \n",
       "799   6130  ./201203_NTF2hb_FOL_resample_sel_lddt0.8/281_H...   \n",
       "\n",
       "                                                   seq length  \n",
       "270  NSEEELKEQIKEFIKREMEAIDKGDADAWLSLFDEDVTITQNGNTR...    132  \n",
       "271  ASEEEAKEQIRQFKRALVEAINKGDWEALERLITPGATFHHQSGET...    132  \n",
       "272  ASEEEAKEQIRQFKRALVEAINKGDWEALERLITPGATFHHQSGET...    132  \n",
       "262  PSEEELKERVKEWIHREVEALNKGDWEAWKRMFHPGAQFHLNNEQQ...    132  \n",
       "799  TSEEEIREAVKDWVRRYFEALNHGDVDAVASLYADDARLTDASTGQ...    132  "
      ]
     },
     "execution_count": 226,
     "metadata": {},
     "output_type": "execute_result"
    }
   ],
   "source": [
    "# Decide subpool split and pad to longest sequence in each subpool\n",
    "df_list = []\n",
    "subpool_list = [799,799,799,800,800] #input the number you want in each subpool\n",
    "start = 0\n",
    "for num,pool_size in enumerate(subpool_list):\n",
    "    end = start + pool_size\n",
    "    print('--------process seq %s ~ %s ------'%(start,end))\n",
    "    df_subpool = pd.DataFrame()\n",
    "    df_subpool = df.iloc[start:end]\n",
    "    print('subpool size: %d'%len(df_subpool))\n",
    "    min_length,max_length = list(df_subpool['length'])[0],list(df_subpool['length'])[-1]\n",
    "    print('Before padding: min %d max %d'%(min_length,max_length))\n",
    "    df_subpool = df_subpool.reset_index()\n",
    "    df_subpool = merge_length(df_subpool)\n",
    "    df_subpool = df_subpool.sort_values(by='length',ascending=True)\n",
    "    min_length,max_length = list(df_subpool['length'])[0],list(df_subpool['length'])[-1]\n",
    "    print('after padding: min %d max %d'%(min_length,max_length))\n",
    "    fp = open('./subpool_{}'.format(num),'w')\n",
    "    fp.write('\\n'.join('%s %s'%(df_subpool.iloc[num].at['design'],df_subpool.iloc[num].at['seq']) for num in range(len(df_subpool))))\n",
    "    fp.close()\n",
    "    start = end\n",
    "df_subpool.tail()"
   ]
  },
  {
   "cell_type": "markdown",
   "metadata": {},
   "source": [
    "## Reverse transcribe\n",
    "- Use the scripts from PPI"
   ]
  },
  {
   "cell_type": "code",
   "execution_count": 227,
   "metadata": {},
   "outputs": [],
   "source": [
    "# Generate commands for DNAworks\n",
    "for num,subpool in enumerate(glob.glob(PARENT_DIR + '/subpool_*')):\n",
    "    reverse_translate_dir = subpool+'_reverse_translate'\n",
    "    os.makedirs(reverse_translate_dir,exist_ok=True)\n",
    "    os.chdir(reverse_translate_dir)\n",
    "    result = subprocess.run(['python2','/home/longxing/bin/DNAWorks/1_reverse_translate.py','-seq_list',subpool], stdout=subprocess.PIPE)"
   ]
  },
  {
   "cell_type": "code",
   "execution_count": 228,
   "metadata": {},
   "outputs": [
    {
     "name": "stdout",
     "output_type": "stream",
     "text": [
      "submitted /home/linnaan/NTF2/FOL_NTF2_binder/for_order/210118_batch1_agilent/subpool_0_reverse_translate\n",
      "submitted /home/linnaan/NTF2/FOL_NTF2_binder/for_order/210118_batch1_agilent/subpool_1_reverse_translate\n",
      "submitted /home/linnaan/NTF2/FOL_NTF2_binder/for_order/210118_batch1_agilent/subpool_4_reverse_translate\n",
      "submitted /home/linnaan/NTF2/FOL_NTF2_binder/for_order/210118_batch1_agilent/subpool_2_reverse_translate\n",
      "submitted /home/linnaan/NTF2/FOL_NTF2_binder/for_order/210118_batch1_agilent/subpool_3_reverse_translate\n"
     ]
    }
   ],
   "source": [
    "# If you have many sequences, submit to digs\n",
    "Submit = True\n",
    "if Submit:\n",
    "    for num,subpool_dir in enumerate(glob.glob(PARENT_DIR + '/subpool_*_reverse_translate')):\n",
    "        os.chdir(subpool_dir)\n",
    "        cmds_f = subpool_dir + '/dnaworks_commands_all.list'\n",
    "        make_submit_file(cmds=cmds_f, submitfile=cmds_f + '.submit.sh', queue='short', group_size=10, logsfolder='logs', cpus=1, mem='1g', needs_gpu=False)\n",
    "        subprocess.check_call('sbatch dnaworks_commands_all.list.submit.sh',shell=True)\n",
    "        print('submitted %s'%subpool_dir)"
   ]
  },
  {
   "cell_type": "markdown",
   "metadata": {},
   "source": [
    "- If you don't have too many sequences, probably just calculate on nodes since that may even be faster\n",
    "- This shouldn't happen to often since a tiny library size will also take long time to PCR out\n",
    "- Conclusion, try to combine libraries to make them between 700 - 1000 (only to libraries requiring assembly)"
   ]
  },
  {
   "cell_type": "code",
   "execution_count": null,
   "metadata": {},
   "outputs": [],
   "source": [
    "# # If you don't have too many sequences, probably just calculate on nodes since that may even be faster\n",
    "# # This shouldn't happen to often since a tiny library size will also take long time to PCR out\n",
    "# # Try to combine libraries\n",
    "# # for each calculation (each cmd in dnaworks_commands_all.list), it will take 6 ~ 10 min\n",
    "# Local = False\n",
    "# if Local:\n",
    "#     for num,subpool_dir in enumerate(glob.glob(PARENT_DIR + '/subpool_*_reverse_translate')):\n",
    "#         if num < 100:\n",
    "#             os.chdir(subpool_dir)\n",
    "#             result = subprocess.run(['bash', 'dnaworks_commands_all.list'], stdout=subprocess.PIPE)"
   ]
  },
  {
   "cell_type": "markdown",
   "metadata": {},
   "source": [
    "- wait till jobs finish on digs\n",
    "- Then collect all results"
   ]
  },
  {
   "cell_type": "markdown",
   "metadata": {},
   "source": [
    "## Collect all reverse transcribed sequences"
   ]
  },
  {
   "cell_type": "code",
   "execution_count": 229,
   "metadata": {},
   "outputs": [],
   "source": [
    "for num,subpool_dir in enumerate(glob.glob(PARENT_DIR + '/subpool_*_reverse_translate')):\n",
    "    os.chdir(subpool_dir)\n",
    "    result = subprocess.run(['python2', '/home/longxing/bin/DNAWorks/2_collect_dnaseq.py'], stdout=subprocess.PIPE)\n",
    "    result2 = subprocess.run(['python', '/home/longxing/bin/DNAWorks/3_check_seq.py','DNA_sequence.list '], stdout=subprocess.PIPE)"
   ]
  },
  {
   "cell_type": "markdown",
   "metadata": {},
   "source": [
    "- In each folder, `DNA_sequence.list` contains the sequence"
   ]
  },
  {
   "cell_type": "markdown",
   "metadata": {},
   "source": [
    "## Prepare DNA sequence files into a file readable by OligoOverlapOpt\n",
    "- `DNA_sequence.list` contains a mark we don't need. It's also in the order of `name, AA_seq, DNA_seq`, if you use your own version of Olig split, you may need to change the order as well. If you use're using my version, then no need to change, just follow the below scripts."
   ]
  },
  {
   "cell_type": "code",
   "execution_count": 230,
   "metadata": {},
   "outputs": [],
   "source": [
    "for num,subpool_dir in enumerate(glob.glob(PARENT_DIR + '/subpool_*_reverse_translate')):\n",
    "    os.chdir(subpool_dir)\n",
    "    DNA_list = []\n",
    "    fp = open('./DNA_sequence.list','r')\n",
    "    for line in fp:\n",
    "        DNA_list.append(line.split()[1:])\n",
    "    fp.close()\n",
    "    fp = open(os.path.basename(subpool_dir).replace('_reverse_translate','_dna_seq'),'w')\n",
    "    fp.write('\\n'.join('\\t'.join(item) for item in DNA_list))\n",
    "    fp.close()"
   ]
  },
  {
   "cell_type": "markdown",
   "metadata": {},
   "source": [
    "## Prepare oligo combs | you shouldn't need to run this unless you have new adaptors to add.\n",
    "- Make a list of all possible combs of all adaptors\n",
    "- <font color=red> Don't run unless new comb need to be added.</font>\n",
    "- To add new comb, add sequence to `/home/linnaan/software/LA_OligoOverlapOpt/all_primers.txt`"
   ]
  },
  {
   "cell_type": "code",
   "execution_count": null,
   "metadata": {},
   "outputs": [],
   "source": [
    "# primer_dir = '/home/linnaan/software/LA_OligoOverlapOpt'\n",
    "# fp = open(primer_dir + '/all_primers.txt')\n",
    "# all_primers = []\n",
    "# for num,line in enumerate(fp):\n",
    "#     all_primers.append([line.split()[0],line.split()[1],line.split()[-1].rstrip()])\n",
    "\n",
    "# print(len(all_primers),all_primers[-1])\n",
    "\n",
    "# all_comb = [['name','oligoA_5prime','oligoA_3prime','ligoB_5primer','oligoB_3prime']]\n",
    "# for num,[out_name,out_5_prim,out_3_prim] in enumerate(all_primers):\n",
    "#     if 0 < num < 4:\n",
    "#         for num2,[in_name,in_3_prim,in_5_prim] in enumerate(all_primers):\n",
    "#             if num2 > 3:\n",
    "#                 all_comb.append([out_name+'_'+in_name,out_5_prim,in_3_prim,in_5_prim,out_3_prim])\n",
    "# print(len(all_comb))"
   ]
  },
  {
   "cell_type": "code",
   "execution_count": null,
   "metadata": {},
   "outputs": [],
   "source": [
    "# fp = open(primer_dir + '/pool_adaptors_short_list.txt','w')\n",
    "# fp.write('\\n'.join('{:<15}    {:<18}     {:<18}     {:<18}    {:<18}'.format(comb[0],comb[1],comb[2],comb[3],comb[4]) for comb in all_comb))\n",
    "# fp.close()"
   ]
  },
  {
   "cell_type": "markdown",
   "metadata": {},
   "source": [
    "## Break oligo and add adaptors"
   ]
  },
  {
   "cell_type": "code",
   "execution_count": 231,
   "metadata": {},
   "outputs": [],
   "source": [
    "primer_dir = '/home/linnaan/software/LA_OligoOverlapOpt'\n",
    "fp = open(primer_dir + '/pool_adaptors_short_list.txt')\n",
    "primer_list = []\n",
    "for num,line in enumerate(fp):\n",
    "    primer_list.append([num,line.split()[0]])\n",
    "fp = pd.DataFrame(primer_list,columns=['adaptor_number','adaptor_name'])"
   ]
  },
  {
   "cell_type": "code",
   "execution_count": 232,
   "metadata": {},
   "outputs": [
    {
     "data": {
      "text/html": [
       "<div>\n",
       "<style scoped>\n",
       "    .dataframe tbody tr th:only-of-type {\n",
       "        vertical-align: middle;\n",
       "    }\n",
       "\n",
       "    .dataframe tbody tr th {\n",
       "        vertical-align: top;\n",
       "    }\n",
       "\n",
       "    .dataframe thead th {\n",
       "        text-align: right;\n",
       "    }\n",
       "</style>\n",
       "<table border=\"1\" class=\"dataframe\">\n",
       "  <thead>\n",
       "    <tr style=\"text-align: right;\">\n",
       "      <th></th>\n",
       "      <th>adaptor_number</th>\n",
       "      <th>adaptor_name</th>\n",
       "    </tr>\n",
       "  </thead>\n",
       "  <tbody>\n",
       "    <tr>\n",
       "      <th>14</th>\n",
       "      <td>15</td>\n",
       "      <td>pETCON_jason_01</td>\n",
       "    </tr>\n",
       "    <tr>\n",
       "      <th>15</th>\n",
       "      <td>16</td>\n",
       "      <td>pETCON_jason_02</td>\n",
       "    </tr>\n",
       "    <tr>\n",
       "      <th>16</th>\n",
       "      <td>17</td>\n",
       "      <td>pETCON_jason_03</td>\n",
       "    </tr>\n",
       "    <tr>\n",
       "      <th>17</th>\n",
       "      <td>18</td>\n",
       "      <td>pETCON_jason_04</td>\n",
       "    </tr>\n",
       "    <tr>\n",
       "      <th>18</th>\n",
       "      <td>19</td>\n",
       "      <td>pETCON_jason_05</td>\n",
       "    </tr>\n",
       "    <tr>\n",
       "      <th>19</th>\n",
       "      <td>20</td>\n",
       "      <td>pETCON_jason_06</td>\n",
       "    </tr>\n",
       "    <tr>\n",
       "      <th>20</th>\n",
       "      <td>21</td>\n",
       "      <td>pETCON_jason_07</td>\n",
       "    </tr>\n",
       "    <tr>\n",
       "      <th>21</th>\n",
       "      <td>22</td>\n",
       "      <td>pETCON_jason_08</td>\n",
       "    </tr>\n",
       "    <tr>\n",
       "      <th>22</th>\n",
       "      <td>23</td>\n",
       "      <td>pETCON_jason_09</td>\n",
       "    </tr>\n",
       "    <tr>\n",
       "      <th>23</th>\n",
       "      <td>24</td>\n",
       "      <td>pETCON_jason_10</td>\n",
       "    </tr>\n",
       "    <tr>\n",
       "      <th>24</th>\n",
       "      <td>25</td>\n",
       "      <td>pETCON_jason_11</td>\n",
       "    </tr>\n",
       "    <tr>\n",
       "      <th>25</th>\n",
       "      <td>26</td>\n",
       "      <td>pETCON_jason_12</td>\n",
       "    </tr>\n",
       "  </tbody>\n",
       "</table>\n",
       "</div>"
      ],
      "text/plain": [
       "    adaptor_number     adaptor_name\n",
       "14              15  pETCON_jason_01\n",
       "15              16  pETCON_jason_02\n",
       "16              17  pETCON_jason_03\n",
       "17              18  pETCON_jason_04\n",
       "18              19  pETCON_jason_05\n",
       "19              20  pETCON_jason_06\n",
       "20              21  pETCON_jason_07\n",
       "21              22  pETCON_jason_08\n",
       "22              23  pETCON_jason_09\n",
       "23              24  pETCON_jason_10\n",
       "24              25  pETCON_jason_11\n",
       "25              26  pETCON_jason_12"
      ]
     },
     "execution_count": 232,
     "metadata": {},
     "output_type": "execute_result"
    }
   ],
   "source": [
    "fp[fp['adaptor_name'].str.contains('pETCON_jason')] #check the adaptor number, format 'outer_inner'"
   ]
  },
  {
   "cell_type": "markdown",
   "metadata": {},
   "source": [
    "### !!! You need to install module `Bio` to run OligoOverapOpt, even if not using your local version of `two_oligo_assembly`"
   ]
  },
  {
   "cell_type": "markdown",
   "metadata": {},
   "source": [
    "- Make sure to check Tm (after `-min_melt_temp`) and max oligo size (`-max_oligo_size`)\n",
    "- OligoOverlapOpt has the tendency of overestimate the Tm, Tm range between 62 ~ 65 is probably good."
   ]
  },
  {
   "cell_type": "code",
   "execution_count": 233,
   "metadata": {},
   "outputs": [],
   "source": [
    "adaptor_list = [15,16,17,18,19] #put in the adaptor number\n",
    "cmd_list = []\n",
    "primer_dir = '/home/linnaan/software/LA_OligoOverlapOpt'\n",
    "Tm = 63\n",
    "MAX_OLIGO = 300\n",
    "for num,adaptor in enumerate(adaptor_list):\n",
    "    subpool_dir = PARENT_DIR + '/subpool_{}_reverse_translate'.format(num)\n",
    "    cmd = 'cd '+subpool_dir+' && python /home/linnaan/software/LA_OligoOverlapOpt/two_oligo_assembly.v2.py -input_list '+ subpool_dir + \\\n",
    "         f'/subpool_{num}_dna_seq ' + \\\n",
    "         '-adaptor_number '+str(adaptor)+ f' -min_melt_temp {Tm} -codontable_fname /home/linnaan/software/LA_OligoOverlapOpt/codontable.tab ' + \\\n",
    "         f'-adaptor_fname /home/linnaan/software/LA_OligoOverlapOpt/pool_adaptors_short_list.txt -max_oligo_size {MAX_OLIGO}' \n",
    "    cmd_list.append(cmd)\n",
    "fp = open(PARENT_DIR + '/break_oligo_cmd','w')\n",
    "fp.write('\\n'.join(cmd_list))\n",
    "fp.close()"
   ]
  },
  {
   "cell_type": "markdown",
   "metadata": {},
   "source": [
    "- Submit oligo break cmds to digs"
   ]
  },
  {
   "cell_type": "code",
   "execution_count": 234,
   "metadata": {},
   "outputs": [],
   "source": [
    "cmds_f = PARENT_DIR + '/break_oligo_cmd'\n",
    "make_submit_file(cmds=cmds_f, submitfile=cmds_f + '.submit.sh', queue='medium', group_size=1, logsfolder='logs', cpus=1, mem='1g', needs_gpu=False)\n",
    "SUBMIT = True\n",
    "if SUBMIT:\n",
    "    os.chdir(PARENT_DIR)\n",
    "    subprocess.check_call('sbatch break_oligo_cmd.submit.sh',shell=True)\n",
    "    print('submitted %s'%cmds_f)"
   ]
  },
  {
   "cell_type": "markdown",
   "metadata": {},
   "source": [
    "- submit to break the oligos"
   ]
  },
  {
   "cell_type": "markdown",
   "metadata": {},
   "source": [
    "## Collect each subpool"
   ]
  },
  {
   "cell_type": "markdown",
   "metadata": {},
   "source": [
    " -  info to name your output files"
   ]
  },
  {
   "cell_type": "code",
   "execution_count": 241,
   "metadata": {},
   "outputs": [
    {
     "name": "stdout",
     "output_type": "stream",
     "text": [
      "1530\n",
      "Order file ready!\n",
      "1466\n",
      "Order file ready!\n",
      "1096\n",
      "Order file ready!\n",
      "1312\n",
      "Order file ready!\n",
      "1428\n",
      "Order file ready!\n"
     ]
    }
   ],
   "source": [
    "CHIP_BATCH = '300ntbatch1'\n",
    "OWNER = 'Linna_An'\n",
    "PROJECT = 'folic_acid' # name with something biofab can understand\n",
    "for num,adaptor in enumerate(adaptor_list):\n",
    "    subpool_dir = PARENT_DIR + f'/subpool_{num}_reverse_translate'\n",
    "    order_file = glob.glob(subpool_dir+'/final_order_large_pool*.tab')[0]\n",
    "    fp = open(order_file,'r')\n",
    "    seq_list = [line.split()[-1].rstrip() for line in fp]\n",
    "    fp.close()\n",
    "    print(f'total number of oligo: {len(seq_list)}')\n",
    "    fp = open(subpool_dir+'/'+ '_'.join([OWNER,PROJECT,str(num),CHIP_BATCH]),'w')\n",
    "    fp.write('\\n'.join(seq_list))\n",
    "    fp.close()\n",
    "    print('Order file ready!')"
   ]
  },
  {
   "cell_type": "markdown",
   "metadata": {},
   "source": [
    "## Concatenate your subpools"
   ]
  },
  {
   "cell_type": "code",
   "execution_count": 8,
   "metadata": {},
   "outputs": [
    {
     "name": "stdout",
     "output_type": "stream",
     "text": [
      "Total number of Oligo 4756\n",
      "Write into file Linna_An_folic_acid_300ntbatch2.\n"
     ]
    },
    {
     "data": {
      "text/plain": [
       "Text(0, 0.5, 'counts')"
      ]
     },
     "execution_count": 8,
     "metadata": {},
     "output_type": "execute_result"
    },
    {
     "data": {
      "image/png": "[encoded data removed]",
      "text/plain": [
       "<Figure size 432x288 with 1 Axes>"
      ]
     },
     "metadata": {
      "needs_background": "light"
     },
     "output_type": "display_data"
    }
   ],
   "source": [
    "oligo_list = []\n",
    "length_list = []\n",
    "for num,subpool_dir in enumerate(glob.glob(PARENT_DIR + '/subpool_*_reverse_translate')):\n",
    "    os.chdir(subpool_dir)\n",
    "    order_file = glob.glob(subpool_dir+f'/{OWNER}_{PROJECT}_*_{CHIP_BATCH}')[0]\n",
    "    fp = open(order_file,'r')\n",
    "    for line in fp:\n",
    "        oligo_list.append(line.rstrip())\n",
    "        length_list.append(len(line.rstrip()))\n",
    "    fp.close()\n",
    "print(f'Total number of Oligo {len(oligo_list)}')\n",
    "fp = open(PARENT_DIR + f'/{OWNER}_{PROJECT}_{CHIP_BATCH}','w')\n",
    "fp.write('\\n'.join(oligo_list))\n",
    "fp.close()\n",
    "print(f'Write into file {OWNER}_{PROJECT}_{CHIP_BATCH}.')\n",
    "\n",
    "plt.hist(length_list)\n",
    "plt.title('Oligo length distribution')\n",
    "plt.xlabel('length')\n",
    "plt.ylabel('counts')"
   ]
  },
  {
   "cell_type": "code",
   "execution_count": null,
   "metadata": {},
   "outputs": [],
   "source": []
  },
  {
   "cell_type": "markdown",
   "metadata": {},
   "source": [
    "## (Optional) check with David Feldman's scripts"
   ]
  },
  {
   "cell_type": "code",
   "execution_count": 242,
   "metadata": {},
   "outputs": [],
   "source": [
    "OLIGO_CHECK = '/home/dfeldman/packages/postdoc_stable/scripts/app.sh'\n",
    "for num,adaptor in enumerate(adaptor_list):\n",
    "    subpool_dir = PARENT_DIR + '/subpool_{}_reverse_translate'.format(num)\n",
    "    final_order_file = subpool_dir+'/'+ '_'.join([OWNER,PROJECT,str(num),CHIP_BATCH])\n",
    "    os.chdir(subpool_dir)\n",
    "    result = subprocess.run([OLIGO_CHECK,'parse_overlap_oligos',final_order_file], stdout=subprocess.PIPE)"
   ]
  },
  {
   "cell_type": "code",
   "execution_count": null,
   "metadata": {},
   "outputs": [],
   "source": []
  },
  {
   "cell_type": "code",
   "execution_count": null,
   "metadata": {},
   "outputs": [],
   "source": []
  }
 ],
 "metadata": {
  "kernelspec": {
   "display_name": "PyRosetta (Python 3.7)",
   "language": "python",
   "name": "pyrosetta"
  },
  "language_info": {
   "codemirror_mode": {
    "name": "ipython",
    "version": 3
   },
   "file_extension": ".py",
   "mimetype": "text/x-python",
   "name": "python",
   "nbconvert_exporter": "python",
   "pygments_lexer": "ipython3",
   "version": "3.7.7"
  }
 },
 "nbformat": 4,
 "nbformat_minor": 4
}

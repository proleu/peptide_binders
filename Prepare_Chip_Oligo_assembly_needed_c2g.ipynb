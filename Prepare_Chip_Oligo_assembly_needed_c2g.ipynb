{
 "cells": [
  {
   "cell_type": "code",
   "execution_count": 2,
   "metadata": {},
   "outputs": [
    {
     "data": {
      "text/html": [
       "<style>.container { width:100% !important; }</style>"
      ],
      "text/plain": [
       "<IPython.core.display.HTML object>"
      ]
     },
     "metadata": {},
     "output_type": "display_data"
    },
    {
     "data": {
      "text/plain": [
       "<module 'design_utils' from '/home/norn/NTF2/210429_MLD_vs_hom/scripts/design_utils.py'>"
      ]
     },
     "execution_count": 2,
     "metadata": {},
     "output_type": "execute_result"
    }
   ],
   "source": [
    "import pandas as pd\n",
    "import matplotlib\n",
    "import matplotlib.pyplot as plt\n",
    "import seaborn as sns\n",
    "from collections import Counter\n",
    "import numpy as np\n",
    "import os, subprocess, glob, re, gzip, math, shutil, itertools, sys, time, math, string\n",
    "from shutil import copyfile\n",
    "from numpy import *\n",
    "from numpy import linalg\n",
    "sys.path.append('/home/linnaan/lib/')\n",
    "from libSlurm import make_submit_file\n",
    "from libSlurm import make_dist_plots\n",
    "sys.path.append('/home/norn/NTF2/210429_MLD_vs_hom/scripts')\n",
    "import jupyter_utils\n",
    "import pickle\n",
    "import pandas as pd\n",
    "import design_utils\n",
    "from sklearn.cluster import KMeans\n",
    "from IPython.core.display import display, HTML\n",
    "display(HTML(\"<style>.container { width:100% !important; }</style>\"))\n",
    "from IPython.display import IFrame\n",
    "\n",
    "import importlib\n",
    "importlib.reload(design_utils)"
   ]
  },
  {
   "cell_type": "code",
   "execution_count": 11,
   "metadata": {},
   "outputs": [],
   "source": [
    "df = pd.read_csv('design_peptide_counts.csv')\n",
    "df = df[df['candidate_peptides']>=2]\n",
    "# for j,(i,row) in enumerate(df.iterrows()):\n",
    "#     f = row['pdb_file']\n",
    "#     shutil.copy(f, f'pdbs/c2g_{j}.pdb')\n",
    "#     df.at[i,'shortName'] = f'c2g_{j}.pdb'\n"
   ]
  },
  {
   "cell_type": "code",
   "execution_count": 27,
   "metadata": {},
   "outputs": [],
   "source": [
    "input_csv = 'design_peptide_counts_for_order.csv'\n",
    "df = df[['design','design_length','shortName']].rename(columns={'design':'seq','design_length':'length'})\n",
    "\n",
    "df.to_csv(input_csv)"
   ]
  },
  {
   "cell_type": "markdown",
   "metadata": {},
   "source": [
    "# Prepare samples for chip order\n",
    "> 1. This notebook prepared for samples which require 2-piece assembly\n",
    "2. Material: all pdbs for order\n",
    "3. Rough Steps:\n",
    "    1. pdbs will be translated into amino acid sequences\n",
    "    2. aa sequences will be sorted into different subpools (1000 sequence each) based on length\n",
    "    3. Within each subpool, sequences will be pad to the same length\n",
    "    4. Each subpool will be translated to DNA sequences\n",
    "    5. Each translated subpool will be added with required adaptors\n",
    "    6. Each prepared subpool will be measured for its overlap diversity"
   ]
  },
  {
   "cell_type": "code",
   "execution_count": 28,
   "metadata": {},
   "outputs": [
    {
     "data": {
      "text/plain": [
       "'/mnt/home/norn/ligands/c2a/order'"
      ]
     },
     "execution_count": 28,
     "metadata": {},
     "output_type": "execute_result"
    }
   ],
   "source": [
    "%pwd"
   ]
  },
  {
   "cell_type": "code",
   "execution_count": 29,
   "metadata": {},
   "outputs": [],
   "source": [
    "PARENT_DIR = '/mnt/home/norn/ligands/c2a/order'\n",
    "input_df = input_csv"
   ]
  },
  {
   "cell_type": "code",
   "execution_count": 30,
   "metadata": {},
   "outputs": [
    {
     "data": {
      "text/plain": [
       "'/mnt/home/norn/ligands/c2a/order'"
      ]
     },
     "execution_count": 30,
     "metadata": {},
     "output_type": "execute_result"
    }
   ],
   "source": [
    "os.chdir(PARENT_DIR)\n",
    "%pwd"
   ]
  },
  {
   "cell_type": "code",
   "execution_count": 33,
   "metadata": {},
   "outputs": [
    {
     "data": {
      "text/html": [
       "<div>\n",
       "<style scoped>\n",
       "    .dataframe tbody tr th:only-of-type {\n",
       "        vertical-align: middle;\n",
       "    }\n",
       "\n",
       "    .dataframe tbody tr th {\n",
       "        vertical-align: top;\n",
       "    }\n",
       "\n",
       "    .dataframe thead th {\n",
       "        text-align: right;\n",
       "    }\n",
       "</style>\n",
       "<table border=\"1\" class=\"dataframe\">\n",
       "  <thead>\n",
       "    <tr style=\"text-align: right;\">\n",
       "      <th></th>\n",
       "      <th>design</th>\n",
       "      <th>seq</th>\n",
       "      <th>length</th>\n",
       "    </tr>\n",
       "  </thead>\n",
       "  <tbody>\n",
       "    <tr>\n",
       "      <th>0</th>\n",
       "      <td>c2g_0.pdb</td>\n",
       "      <td>SEFLRVSLELVKIALRRGDPRLVYELVAIAVYLAQLEGDREVLKEL...</td>\n",
       "      <td>165</td>\n",
       "    </tr>\n",
       "    <tr>\n",
       "      <th>1</th>\n",
       "      <td>c2g_1.pdb</td>\n",
       "      <td>DVAEILYLVAQAYLRGDPDLLKRLLELILRLIKEALERGDLEQLIK...</td>\n",
       "      <td>159</td>\n",
       "    </tr>\n",
       "    <tr>\n",
       "      <th>2</th>\n",
       "      <td>c2g_2.pdb</td>\n",
       "      <td>DLEEQLKRALEEGDLLLVFLLAFFILKLLLLEGDPEKLREILEILL...</td>\n",
       "      <td>160</td>\n",
       "    </tr>\n",
       "    <tr>\n",
       "      <th>3</th>\n",
       "      <td>c2g_3.pdb</td>\n",
       "      <td>DLEELIKLLLEARKKGDLLFLVFTLIMLLQAALIRGDEETLKFVLK...</td>\n",
       "      <td>163</td>\n",
       "    </tr>\n",
       "    <tr>\n",
       "      <th>4</th>\n",
       "      <td>c2g_4.pdb</td>\n",
       "      <td>DEEYLRFLLKAVEEAIRRGDPDTALFLVFLAIFIAIKIGDPEALKK...</td>\n",
       "      <td>165</td>\n",
       "    </tr>\n",
       "  </tbody>\n",
       "</table>\n",
       "</div>"
      ],
      "text/plain": [
       "      design                                                seq  length\n",
       "0  c2g_0.pdb  SEFLRVSLELVKIALRRGDPRLVYELVAIAVYLAQLEGDREVLKEL...     165\n",
       "1  c2g_1.pdb  DVAEILYLVAQAYLRGDPDLLKRLLELILRLIKEALERGDLEQLIK...     159\n",
       "2  c2g_2.pdb  DLEEQLKRALEEGDLLLVFLLAFFILKLLLLEGDPEKLREILEILL...     160\n",
       "3  c2g_3.pdb  DLEELIKLLLEARKKGDLLFLVFTLIMLLQAALIRGDEETLKFVLK...     163\n",
       "4  c2g_4.pdb  DEEYLRFLLKAVEEAIRRGDPDTALFLVFLAIFIAIKIGDPEALKK...     165"
      ]
     },
     "execution_count": 33,
     "metadata": {},
     "output_type": "execute_result"
    }
   ],
   "source": [
    "df = pd.read_csv(input_df)[['shortName','seq','length']].rename(columns={'shortName':'design'})\n",
    "df.head()"
   ]
  },
  {
   "cell_type": "code",
   "execution_count": 35,
   "metadata": {},
   "outputs": [
    {
     "data": {
      "text/plain": [
       "<matplotlib.axes._subplots.AxesSubplot at 0x7fb3a8be9160>"
      ]
     },
     "execution_count": 35,
     "metadata": {},
     "output_type": "execute_result"
    },
    {
     "data": {
      "image/png": "[encoded data removed]",
      "text/plain": [
       "<Figure size 432x288 with 1 Axes>"
      ]
     },
     "metadata": {
      "needs_background": "light"
     },
     "output_type": "display_data"
    }
   ],
   "source": [
    "#remove duplicate\n",
    "assert len(df) == len(df.drop_duplicates(subset='seq'))\n",
    "# display(df[df.duplicated(subset='seq')])\n",
    "sns.distplot(df['length'])"
   ]
  },
  {
   "cell_type": "markdown",
   "metadata": {},
   "source": [
    "### Split to different subpools"
   ]
  },
  {
   "cell_type": "code",
   "execution_count": 36,
   "metadata": {},
   "outputs": [
    {
     "name": "stdout",
     "output_type": "stream",
     "text": [
      "You have 3243 designs\n"
     ]
    },
    {
     "data": {
      "image/png": "[encoded data removed]",
      "text/plain": [
       "<Figure size 432x288 with 1 Axes>"
      ]
     },
     "metadata": {
      "needs_background": "light"
     },
     "output_type": "display_data"
    }
   ],
   "source": [
    "# change order based on length\n",
    "df = df.sort_values(by='length',ascending=True)\n",
    "\n",
    "#check aa length distribution\n",
    "sns.distplot(df['length'])\n",
    "\n",
    "print(f'You have {len(df)} designs')"
   ]
  },
  {
   "cell_type": "markdown",
   "metadata": {},
   "source": [
    "### decide subpools based on total length and legth distribution\n",
    "- each subpool (aka oligos with the same adaptors) should less than 1000 oligos. To many oligos will decrease assembly effciency.\n",
    "- the smaller each pool, the better, but don't do too small, since it will take long time PCR to enrich your libraries."
   ]
  },
  {
   "cell_type": "code",
   "execution_count": 40,
   "metadata": {},
   "outputs": [
    {
     "name": "stdout",
     "output_type": "stream",
     "text": [
      "--------process seq 0 ~ 810 ------\n",
      "subpool size: 810\n",
      "Before padding: min 132 max 163\n",
      "after padding: min 144 max 163\n",
      "--------process seq 810 ~ 1620 ------\n",
      "subpool size: 810\n",
      "Before padding: min 163 max 165\n",
      "after padding: min 165 max 165\n",
      "--------process seq 1620 ~ 2430 ------\n",
      "subpool size: 810\n",
      "Before padding: min 165 max 165\n",
      "after padding: min 165 max 165\n",
      "--------process seq 2430 ~ 3243 ------\n",
      "subpool size: 813\n",
      "Before padding: min 165 max 165\n",
      "after padding: min 165 max 165\n"
     ]
    },
    {
     "data": {
      "text/html": [
       "<div>\n",
       "<style scoped>\n",
       "    .dataframe tbody tr th:only-of-type {\n",
       "        vertical-align: middle;\n",
       "    }\n",
       "\n",
       "    .dataframe tbody tr th {\n",
       "        vertical-align: top;\n",
       "    }\n",
       "\n",
       "    .dataframe thead th {\n",
       "        text-align: right;\n",
       "    }\n",
       "</style>\n",
       "<table border=\"1\" class=\"dataframe\">\n",
       "  <thead>\n",
       "    <tr style=\"text-align: right;\">\n",
       "      <th></th>\n",
       "      <th>index</th>\n",
       "      <th>design</th>\n",
       "      <th>seq</th>\n",
       "      <th>length</th>\n",
       "    </tr>\n",
       "  </thead>\n",
       "  <tbody>\n",
       "    <tr>\n",
       "      <th>274</th>\n",
       "      <td>1760</td>\n",
       "      <td>c2g_1760.pdb</td>\n",
       "      <td>DKYEEMLQRLLEQAYKEGDYETLVKLLSLLATQAAEKGDPSLRETV...</td>\n",
       "      <td>165</td>\n",
       "    </tr>\n",
       "    <tr>\n",
       "      <th>275</th>\n",
       "      <td>1761</td>\n",
       "      <td>c2g_1761.pdb</td>\n",
       "      <td>SDNIVDQLEELLREARENGDKYTVVQLARILLQLAEEKGDPNKLKY...</td>\n",
       "      <td>165</td>\n",
       "    </tr>\n",
       "    <tr>\n",
       "      <th>276</th>\n",
       "      <td>1763</td>\n",
       "      <td>c2g_1763.pdb</td>\n",
       "      <td>SKELKKLEESVRKASERGDPKSVEQSVRAAVYYAARQGDRETLKRL...</td>\n",
       "      <td>165</td>\n",
       "    </tr>\n",
       "    <tr>\n",
       "      <th>266</th>\n",
       "      <td>1777</td>\n",
       "      <td>c2g_1777.pdb</td>\n",
       "      <td>DDDLKTLLELLQQTLEEGDPETALQVLRYAITRASQLGDEEVLKEL...</td>\n",
       "      <td>165</td>\n",
       "    </tr>\n",
       "    <tr>\n",
       "      <th>812</th>\n",
       "      <td>3242</td>\n",
       "      <td>c2g_3242.pdb</td>\n",
       "      <td>DEFLDELLKILEETLKKGDPYFALFVLLLAIILALLLGDERVLREL...</td>\n",
       "      <td>165</td>\n",
       "    </tr>\n",
       "  </tbody>\n",
       "</table>\n",
       "</div>"
      ],
      "text/plain": [
       "     index        design                                                seq  \\\n",
       "274   1760  c2g_1760.pdb  DKYEEMLQRLLEQAYKEGDYETLVKLLSLLATQAAEKGDPSLRETV...   \n",
       "275   1761  c2g_1761.pdb  SDNIVDQLEELLREARENGDKYTVVQLARILLQLAEEKGDPNKLKY...   \n",
       "276   1763  c2g_1763.pdb  SKELKKLEESVRKASERGDPKSVEQSVRAAVYYAARQGDRETLKRL...   \n",
       "266   1777  c2g_1777.pdb  DDDLKTLLELLQQTLEEGDPETALQVLRYAITRASQLGDEEVLKEL...   \n",
       "812   3242  c2g_3242.pdb  DEFLDELLKILEETLKKGDPYFALFVLLLAIILALLLGDERVLREL...   \n",
       "\n",
       "    length  \n",
       "274    165  \n",
       "275    165  \n",
       "276    165  \n",
       "266    165  \n",
       "812    165  "
      ]
     },
     "execution_count": 40,
     "metadata": {},
     "output_type": "execute_result"
    }
   ],
   "source": [
    "# MISC functions\n",
    "def merge_length(df_in):\n",
    "    '''\n",
    "    pad all sequences in each subpool to the same length as the max of the design in that subpool\n",
    "    '''\n",
    "    df_out = pd.DataFrame(columns=df_in.columns)\n",
    "    linker = 'GSSGGSSGGSSG'\n",
    "    min_length,max_length = list(df_in['length'])[0],list(df_in['length'])[-1]\n",
    "    for num,pdb in enumerate(list(df_in['design'])):\n",
    "        length = df_in.loc[num].at['length']\n",
    "        if length != max_length:\n",
    "            orig_seq = df_in.loc[num].at['seq']\n",
    "            q = int(max_length-length)\n",
    "            new_seq = orig_seq + linker[0:q]\n",
    "            df_in.iloc[num,df_in.columns.get_loc('seq')] = new_seq\n",
    "            df_in.iloc[num,df_in.columns.get_loc('length')] = len(new_seq)\n",
    "    return df_in\n",
    "\n",
    "\n",
    "# Decide subpool split and pad to longest sequence in each subpool\n",
    "df_list = []\n",
    "subpool_list = [810]*3+[813] #input the number you want in each subpool\n",
    "assert np.sum(subpool_list) == len(df)\n",
    "\n",
    "start = 0\n",
    "for num,pool_size in enumerate(subpool_list):\n",
    "    if num < 100:\n",
    "        end = start + pool_size\n",
    "        print('--------process seq %s ~ %s ------'%(start,end))\n",
    "        df_subpool = pd.DataFrame(columns=df.columns)\n",
    "        df_subpool = df_subpool.append(df.iloc[start:end])\n",
    "        print('subpool size: %d'%len(df_subpool))\n",
    "        min_length,max_length = list(df_subpool['length'])[0],list(df_subpool['length'])[-1]\n",
    "        print('Before padding: min %d max %d'%(min_length,max_length))\n",
    "        df_subpool = df_subpool.reset_index()\n",
    "        df_subpool = merge_length(df_subpool)\n",
    "        df_subpool = df_subpool.sort_values(by='length',ascending=True)\n",
    "        min_length,max_length = list(df_subpool['length'])[0],list(df_subpool['length'])[-1]\n",
    "        print('after padding: min %d max %d'%(min_length,max_length))\n",
    "        fp = open('./subpool_{}'.format(num),'w')\n",
    "        fp.write('\\n'.join('%s %s'%(df_subpool.iloc[num].at['design'],df_subpool.iloc[num].at['seq']) for num in range(len(df_subpool))))\n",
    "        fp.close()\n",
    "        start = end\n",
    "df_subpool.tail()"
   ]
  },
  {
   "cell_type": "markdown",
   "metadata": {},
   "source": [
    "## Reverse transcribe\n",
    "- Use the scripts from PPI"
   ]
  },
  {
   "cell_type": "code",
   "execution_count": 41,
   "metadata": {},
   "outputs": [
    {
     "name": "stdout",
     "output_type": "stream",
     "text": [
      "/mnt/home/norn/ligands/c2a/order/subpool_0\n",
      "/mnt/home/norn/ligands/c2a/order/subpool_3\n",
      "/mnt/home/norn/ligands/c2a/order/subpool_1\n",
      "/mnt/home/norn/ligands/c2a/order/subpool_2\n"
     ]
    }
   ],
   "source": [
    "# Generate commands for DNAworks\n",
    "for num,subpool in enumerate(glob.glob(PARENT_DIR + '/subpool_*')):\n",
    "    print(subpool)\n",
    "    if num < 100:\n",
    "        reverse_translate_dir = subpool+'_reverse_translate'\n",
    "        os.makedirs(reverse_translate_dir,exist_ok=True)\n",
    "        os.chdir(reverse_translate_dir)\n",
    "        result = subprocess.run(['python2','/home/longxing/bin/DNAWorks/1_reverse_translate.py','-seq_list',subpool], stdout=subprocess.PIPE)"
   ]
  },
  {
   "cell_type": "code",
   "execution_count": 42,
   "metadata": {},
   "outputs": [
    {
     "name": "stdout",
     "output_type": "stream",
     "text": [
      "submitted /mnt/home/norn/ligands/c2a/order/subpool_3_reverse_translate\n",
      "submitted /mnt/home/norn/ligands/c2a/order/subpool_2_reverse_translate\n",
      "submitted /mnt/home/norn/ligands/c2a/order/subpool_1_reverse_translate\n",
      "submitted /mnt/home/norn/ligands/c2a/order/subpool_0_reverse_translate\n"
     ]
    }
   ],
   "source": [
    "# If you have many sequences, submit to digs\n",
    "Submit = True\n",
    "if Submit:\n",
    "    for num,subpool_dir in enumerate(glob.glob(PARENT_DIR + '/subpool_*_reverse_translate')):\n",
    "        if num < 100:\n",
    "            os.chdir(subpool_dir)\n",
    "            cmds_f = subpool_dir + '/dnaworks_commands_all.list'\n",
    "            make_submit_file(cmds=cmds_f, submitfile=cmds_f + '.submit.sh', queue='long', group_size=10, logsfolder='logs', cpus=1, mem='1g', needs_gpu=False)\n",
    "            subprocess.check_call('sbatch dnaworks_commands_all.list.submit.sh',shell=True)\n",
    "            print('submitted %s'%subpool_dir)"
   ]
  },
  {
   "cell_type": "markdown",
   "metadata": {},
   "source": [
    "- wait till jobs finish on digs\n",
    "- Then collect all results"
   ]
  },
  {
   "cell_type": "markdown",
   "metadata": {},
   "source": [
    "## Collect all reverse transcribed sequences"
   ]
  },
  {
   "cell_type": "code",
   "execution_count": 45,
   "metadata": {},
   "outputs": [],
   "source": [
    "for num,subpool_dir in enumerate(glob.glob(PARENT_DIR + '/subpool_*_reverse_translate')):\n",
    "    if num < 100:\n",
    "        os.chdir(subpool_dir)\n",
    "        result = subprocess.run(['python2', '/home/longxing/bin/DNAWorks/2_collect_dnaseq.py'], stdout=subprocess.PIPE)\n",
    "        result2 = subprocess.run(['python', '/home/longxing/bin/DNAWorks/3_check_seq.py','DNA_sequence.list '], stdout=subprocess.PIPE)"
   ]
  },
  {
   "cell_type": "markdown",
   "metadata": {},
   "source": [
    "- In each folder, `DNA_sequence.list` contains the sequence"
   ]
  },
  {
   "cell_type": "markdown",
   "metadata": {},
   "source": [
    "## Prepare DNA sequence files into a file readable by OligoOverlapOpt"
   ]
  },
  {
   "cell_type": "code",
   "execution_count": 46,
   "metadata": {},
   "outputs": [],
   "source": [
    "for num,subpool_dir in enumerate(glob.glob(PARENT_DIR + '/subpool_*_reverse_translate')):\n",
    "    if num < 100:\n",
    "        os.chdir(subpool_dir)\n",
    "        DNA_list = []\n",
    "        fp = open('./DNA_sequence.list','r')\n",
    "        for line in fp:\n",
    "            DNA_list.append(line.split()[1:])\n",
    "        fp.close()\n",
    "        fp = open(os.path.basename(subpool_dir).replace('_reverse_translate','_dna_seq'),'w')\n",
    "        fp.write('\\n'.join('\\t'.join(item) for item in DNA_list))\n",
    "        fp.close()"
   ]
  },
  {
   "cell_type": "markdown",
   "metadata": {},
   "source": [
    "## Prepare oligo combs\n",
    "- Make a list of all possible combs of all adaptors\n",
    "- <font color=red> Don't run again unless new comb need to be added.</font>\n",
    "- To add new comb, add sequence to `/home/linnaan/software/LA_OligoOverlapOpt/all_primers.txt`"
   ]
  },
  {
   "cell_type": "code",
   "execution_count": 47,
   "metadata": {},
   "outputs": [],
   "source": [
    "# primer_dir = '/home/linnaan/software/LA_OligoOverlapOpt'\n",
    "# fp = open(primer_dir + '/all_primers.txt')\n",
    "# all_primers = []\n",
    "# for num,line in enumerate(fp):\n",
    "#     all_primers.append([line.split()[0],line.split()[1],line.split()[-1].rstrip()])\n",
    "\n",
    "# print(len(all_primers),all_primers[-1])\n",
    "\n",
    "# all_comb = [['name','oligoA_5prime','oligoA_3prime','ligoB_5primer','oligoB_3prime']]\n",
    "# for num,[out_name,out_5_prim,out_3_prim] in enumerate(all_primers):\n",
    "#     if 0 < num < 4:\n",
    "#         for num2,[in_name,in_3_prim,in_5_prim] in enumerate(all_primers):\n",
    "#             if num2 > 3:\n",
    "#                 all_comb.append([out_name+'_'+in_name,out_5_prim,in_3_prim,in_5_prim,out_3_prim])\n",
    "# print(len(all_comb))"
   ]
  },
  {
   "cell_type": "code",
   "execution_count": 48,
   "metadata": {},
   "outputs": [],
   "source": [
    "# fp = open(primer_dir + '/pool_adaptors_short_list.txt','w')\n",
    "# fp.write('\\n'.join('{:<15}    {:<18}     {:<18}     {:<18}    {:<18}'.format(comb[0],comb[1],comb[2],comb[3],comb[4]) for comb in all_comb))\n",
    "# fp.close()"
   ]
  },
  {
   "cell_type": "markdown",
   "metadata": {},
   "source": [
    "## Break oligo and add adaptors"
   ]
  },
  {
   "cell_type": "markdown",
   "metadata": {},
   "source": [
    "cd ./splite_dna_seq_list/seq9 && python ../../two_oligo_assembly.v2.py -input_list ../DNA_sequence_cleaned_line9 -adaptor_number 13 -min_melt_temp 65 -codontable_fname ../../codontable.tab -adaptor_fname ../../pool_adaptors_short_list.txt \n"
   ]
  },
  {
   "cell_type": "code",
   "execution_count": 49,
   "metadata": {},
   "outputs": [],
   "source": [
    "primer_dir = '/home/linnaan/software/LA_OligoOverlapOpt'\n",
    "fp = open(primer_dir + '/pool_adaptors_short_list.txt')\n",
    "primer_list = []\n",
    "for num,line in enumerate(fp):\n",
    "    if num > 0:\n",
    "        primer_list.append([num,line.split()[0]])\n",
    "fp = pd.DataFrame(primer_list,columns=['adaptor_number','adaptor_name'])"
   ]
  },
  {
   "cell_type": "code",
   "execution_count": 50,
   "metadata": {},
   "outputs": [
    {
     "data": {
      "text/html": [
       "<div>\n",
       "<style scoped>\n",
       "    .dataframe tbody tr th:only-of-type {\n",
       "        vertical-align: middle;\n",
       "    }\n",
       "\n",
       "    .dataframe tbody tr th {\n",
       "        vertical-align: top;\n",
       "    }\n",
       "\n",
       "    .dataframe thead th {\n",
       "        text-align: right;\n",
       "    }\n",
       "</style>\n",
       "<table border=\"1\" class=\"dataframe\">\n",
       "  <thead>\n",
       "    <tr style=\"text-align: right;\">\n",
       "      <th></th>\n",
       "      <th>adaptor_number</th>\n",
       "      <th>adaptor_name</th>\n",
       "    </tr>\n",
       "  </thead>\n",
       "  <tbody>\n",
       "    <tr>\n",
       "      <th>14</th>\n",
       "      <td>15</td>\n",
       "      <td>pETCON_jason_01</td>\n",
       "    </tr>\n",
       "    <tr>\n",
       "      <th>15</th>\n",
       "      <td>16</td>\n",
       "      <td>pETCON_jason_02</td>\n",
       "    </tr>\n",
       "    <tr>\n",
       "      <th>16</th>\n",
       "      <td>17</td>\n",
       "      <td>pETCON_jason_03</td>\n",
       "    </tr>\n",
       "    <tr>\n",
       "      <th>17</th>\n",
       "      <td>18</td>\n",
       "      <td>pETCON_jason_04</td>\n",
       "    </tr>\n",
       "    <tr>\n",
       "      <th>18</th>\n",
       "      <td>19</td>\n",
       "      <td>pETCON_jason_05</td>\n",
       "    </tr>\n",
       "    <tr>\n",
       "      <th>19</th>\n",
       "      <td>20</td>\n",
       "      <td>pETCON_jason_06</td>\n",
       "    </tr>\n",
       "    <tr>\n",
       "      <th>20</th>\n",
       "      <td>21</td>\n",
       "      <td>pETCON_jason_07</td>\n",
       "    </tr>\n",
       "    <tr>\n",
       "      <th>21</th>\n",
       "      <td>22</td>\n",
       "      <td>pETCON_jason_08</td>\n",
       "    </tr>\n",
       "    <tr>\n",
       "      <th>22</th>\n",
       "      <td>23</td>\n",
       "      <td>pETCON_jason_09</td>\n",
       "    </tr>\n",
       "    <tr>\n",
       "      <th>23</th>\n",
       "      <td>24</td>\n",
       "      <td>pETCON_jason_10</td>\n",
       "    </tr>\n",
       "    <tr>\n",
       "      <th>24</th>\n",
       "      <td>25</td>\n",
       "      <td>pETCON_jason_11</td>\n",
       "    </tr>\n",
       "    <tr>\n",
       "      <th>25</th>\n",
       "      <td>26</td>\n",
       "      <td>pETCON_jason_12</td>\n",
       "    </tr>\n",
       "    <tr>\n",
       "      <th>47</th>\n",
       "      <td>48</td>\n",
       "      <td>GS_jason_01</td>\n",
       "    </tr>\n",
       "    <tr>\n",
       "      <th>48</th>\n",
       "      <td>49</td>\n",
       "      <td>GS_jason_02</td>\n",
       "    </tr>\n",
       "    <tr>\n",
       "      <th>49</th>\n",
       "      <td>50</td>\n",
       "      <td>GS_jason_03</td>\n",
       "    </tr>\n",
       "    <tr>\n",
       "      <th>50</th>\n",
       "      <td>51</td>\n",
       "      <td>GS_jason_04</td>\n",
       "    </tr>\n",
       "    <tr>\n",
       "      <th>51</th>\n",
       "      <td>52</td>\n",
       "      <td>GS_jason_05</td>\n",
       "    </tr>\n",
       "    <tr>\n",
       "      <th>52</th>\n",
       "      <td>53</td>\n",
       "      <td>GS_jason_06</td>\n",
       "    </tr>\n",
       "    <tr>\n",
       "      <th>53</th>\n",
       "      <td>54</td>\n",
       "      <td>GS_jason_07</td>\n",
       "    </tr>\n",
       "    <tr>\n",
       "      <th>54</th>\n",
       "      <td>55</td>\n",
       "      <td>GS_jason_08</td>\n",
       "    </tr>\n",
       "    <tr>\n",
       "      <th>55</th>\n",
       "      <td>56</td>\n",
       "      <td>GS_jason_09</td>\n",
       "    </tr>\n",
       "    <tr>\n",
       "      <th>56</th>\n",
       "      <td>57</td>\n",
       "      <td>GS_jason_10</td>\n",
       "    </tr>\n",
       "    <tr>\n",
       "      <th>57</th>\n",
       "      <td>58</td>\n",
       "      <td>GS_jason_11</td>\n",
       "    </tr>\n",
       "    <tr>\n",
       "      <th>58</th>\n",
       "      <td>59</td>\n",
       "      <td>GS_jason_12</td>\n",
       "    </tr>\n",
       "    <tr>\n",
       "      <th>80</th>\n",
       "      <td>81</td>\n",
       "      <td>SG_jason_01</td>\n",
       "    </tr>\n",
       "    <tr>\n",
       "      <th>81</th>\n",
       "      <td>82</td>\n",
       "      <td>SG_jason_02</td>\n",
       "    </tr>\n",
       "    <tr>\n",
       "      <th>82</th>\n",
       "      <td>83</td>\n",
       "      <td>SG_jason_03</td>\n",
       "    </tr>\n",
       "    <tr>\n",
       "      <th>83</th>\n",
       "      <td>84</td>\n",
       "      <td>SG_jason_04</td>\n",
       "    </tr>\n",
       "    <tr>\n",
       "      <th>84</th>\n",
       "      <td>85</td>\n",
       "      <td>SG_jason_05</td>\n",
       "    </tr>\n",
       "    <tr>\n",
       "      <th>85</th>\n",
       "      <td>86</td>\n",
       "      <td>SG_jason_06</td>\n",
       "    </tr>\n",
       "    <tr>\n",
       "      <th>86</th>\n",
       "      <td>87</td>\n",
       "      <td>SG_jason_07</td>\n",
       "    </tr>\n",
       "    <tr>\n",
       "      <th>87</th>\n",
       "      <td>88</td>\n",
       "      <td>SG_jason_08</td>\n",
       "    </tr>\n",
       "    <tr>\n",
       "      <th>88</th>\n",
       "      <td>89</td>\n",
       "      <td>SG_jason_09</td>\n",
       "    </tr>\n",
       "    <tr>\n",
       "      <th>89</th>\n",
       "      <td>90</td>\n",
       "      <td>SG_jason_10</td>\n",
       "    </tr>\n",
       "    <tr>\n",
       "      <th>90</th>\n",
       "      <td>91</td>\n",
       "      <td>SG_jason_11</td>\n",
       "    </tr>\n",
       "    <tr>\n",
       "      <th>91</th>\n",
       "      <td>92</td>\n",
       "      <td>SG_jason_12</td>\n",
       "    </tr>\n",
       "    <tr>\n",
       "      <th>113</th>\n",
       "      <td>114</td>\n",
       "      <td>pBAD_jason_01</td>\n",
       "    </tr>\n",
       "    <tr>\n",
       "      <th>114</th>\n",
       "      <td>115</td>\n",
       "      <td>pBAD_jason_02</td>\n",
       "    </tr>\n",
       "    <tr>\n",
       "      <th>115</th>\n",
       "      <td>116</td>\n",
       "      <td>pBAD_jason_03</td>\n",
       "    </tr>\n",
       "    <tr>\n",
       "      <th>116</th>\n",
       "      <td>117</td>\n",
       "      <td>pBAD_jason_04</td>\n",
       "    </tr>\n",
       "    <tr>\n",
       "      <th>117</th>\n",
       "      <td>118</td>\n",
       "      <td>pBAD_jason_05</td>\n",
       "    </tr>\n",
       "    <tr>\n",
       "      <th>118</th>\n",
       "      <td>119</td>\n",
       "      <td>pBAD_jason_06</td>\n",
       "    </tr>\n",
       "    <tr>\n",
       "      <th>119</th>\n",
       "      <td>120</td>\n",
       "      <td>pBAD_jason_07</td>\n",
       "    </tr>\n",
       "    <tr>\n",
       "      <th>120</th>\n",
       "      <td>121</td>\n",
       "      <td>pBAD_jason_08</td>\n",
       "    </tr>\n",
       "    <tr>\n",
       "      <th>121</th>\n",
       "      <td>122</td>\n",
       "      <td>pBAD_jason_09</td>\n",
       "    </tr>\n",
       "    <tr>\n",
       "      <th>122</th>\n",
       "      <td>123</td>\n",
       "      <td>pBAD_jason_10</td>\n",
       "    </tr>\n",
       "    <tr>\n",
       "      <th>123</th>\n",
       "      <td>124</td>\n",
       "      <td>pBAD_jason_11</td>\n",
       "    </tr>\n",
       "    <tr>\n",
       "      <th>124</th>\n",
       "      <td>125</td>\n",
       "      <td>pBAD_jason_12</td>\n",
       "    </tr>\n",
       "  </tbody>\n",
       "</table>\n",
       "</div>"
      ],
      "text/plain": [
       "     adaptor_number     adaptor_name\n",
       "14               15  pETCON_jason_01\n",
       "15               16  pETCON_jason_02\n",
       "16               17  pETCON_jason_03\n",
       "17               18  pETCON_jason_04\n",
       "18               19  pETCON_jason_05\n",
       "19               20  pETCON_jason_06\n",
       "20               21  pETCON_jason_07\n",
       "21               22  pETCON_jason_08\n",
       "22               23  pETCON_jason_09\n",
       "23               24  pETCON_jason_10\n",
       "24               25  pETCON_jason_11\n",
       "25               26  pETCON_jason_12\n",
       "47               48      GS_jason_01\n",
       "48               49      GS_jason_02\n",
       "49               50      GS_jason_03\n",
       "50               51      GS_jason_04\n",
       "51               52      GS_jason_05\n",
       "52               53      GS_jason_06\n",
       "53               54      GS_jason_07\n",
       "54               55      GS_jason_08\n",
       "55               56      GS_jason_09\n",
       "56               57      GS_jason_10\n",
       "57               58      GS_jason_11\n",
       "58               59      GS_jason_12\n",
       "80               81      SG_jason_01\n",
       "81               82      SG_jason_02\n",
       "82               83      SG_jason_03\n",
       "83               84      SG_jason_04\n",
       "84               85      SG_jason_05\n",
       "85               86      SG_jason_06\n",
       "86               87      SG_jason_07\n",
       "87               88      SG_jason_08\n",
       "88               89      SG_jason_09\n",
       "89               90      SG_jason_10\n",
       "90               91      SG_jason_11\n",
       "91               92      SG_jason_12\n",
       "113             114    pBAD_jason_01\n",
       "114             115    pBAD_jason_02\n",
       "115             116    pBAD_jason_03\n",
       "116             117    pBAD_jason_04\n",
       "117             118    pBAD_jason_05\n",
       "118             119    pBAD_jason_06\n",
       "119             120    pBAD_jason_07\n",
       "120             121    pBAD_jason_08\n",
       "121             122    pBAD_jason_09\n",
       "122             123    pBAD_jason_10\n",
       "123             124    pBAD_jason_11\n",
       "124             125    pBAD_jason_12"
      ]
     },
     "execution_count": 50,
     "metadata": {},
     "output_type": "execute_result"
    }
   ],
   "source": [
    "fp[fp['adaptor_name'].str.contains('jason')] #check the adaptor number"
   ]
  },
  {
   "cell_type": "code",
   "execution_count": 51,
   "metadata": {},
   "outputs": [
    {
     "name": "stdout",
     "output_type": "stream",
     "text": [
      "/mnt/home/norn/ligands/c2a/order/break_oligo_cmd.submit.sh\n"
     ]
    },
    {
     "data": {
      "text/plain": [
       "0"
      ]
     },
     "execution_count": 51,
     "metadata": {},
     "output_type": "execute_result"
    }
   ],
   "source": [
    "N_CPUS = 20\n",
    "\n",
    "adaptor_list = [15,16,17,18] #put in the adaptor number\n",
    "outer_adaptor = 'petcon'\n",
    "\n",
    "cmd_list = []\n",
    "assert len(subpool_list) == len(adaptor_list)\n",
    "primer_dir = '/home/linnaan/software/LA_OligoOverlapOpt'\n",
    "primer_opt_script = '/home/norn/scripts/oligo_assembly_210212/two_oligo_assembly_with_chimera_different_adapters.py'\n",
    "for num,adaptor in enumerate(adaptor_list):\n",
    "    if num < 100:\n",
    "        subpool_dir = PARENT_DIR + '/subpool_{}_reverse_translate'.format(num)\n",
    "        cmd = 'cd '+subpool_dir+f' && python2.7 {primer_opt_script} -input_list '+subpool_dir+'/subpool_{}_dna_seq '.format(num) + \\\n",
    "              f'-petcon_adaptor_type {outer_adaptor} ' + \\\n",
    "              '-adaptor_number '+str(adaptor)+' -min_melt_temp 63 -codontable_fname /home/linnaan/software/LA_OligoOverlapOpt/codontable.tab ' + \\\n",
    "              f'-adaptor_fname /home/linnaan/software/LA_OligoOverlapOpt/pool_adaptors_short_list.txt -max_oligo_size 300 -nproc {N_CPUS}' \n",
    "        cmd_list.append(cmd)\n",
    "fp = open(PARENT_DIR + '/break_oligo_cmd','w')\n",
    "fp.write('\\n'.join(cmd_list)+'\\n')\n",
    "fp.close()\n",
    "\n",
    "cmds_f = PARENT_DIR + '/break_oligo_cmd'\n",
    "submitfile = cmds_f + '.submit.sh'\n",
    "make_submit_file(cmds=cmds_f, submitfile=submitfile, queue='long', group_size=1, logsfolder='logs', cpus=N_CPUS, mem='32g', needs_gpu=False)\n",
    "print(submitfile)\n",
    "subprocess.check_call(f'sbatch {submitfile}',shell=True)"
   ]
  },
  {
   "cell_type": "markdown",
   "metadata": {},
   "source": [
    "- Submit oligo break cmds to digs"
   ]
  },
  {
   "cell_type": "markdown",
   "metadata": {},
   "source": [
    "## Collect each subpool"
   ]
  },
  {
   "cell_type": "code",
   "execution_count": 52,
   "metadata": {},
   "outputs": [
    {
     "name": "stdout",
     "output_type": "stream",
     "text": [
      "682.0\n",
      "/mnt/home/norn/ligands/c2a/order/subpool_0_reverse_translate/Chris_Sam_APX_0_300ntbatch1\n",
      "683.0\n",
      "/mnt/home/norn/ligands/c2a/order/subpool_1_reverse_translate/Chris_Sam_APX_1_300ntbatch1\n",
      "634.0\n",
      "/mnt/home/norn/ligands/c2a/order/subpool_2_reverse_translate/Chris_Sam_APX_2_300ntbatch1\n",
      "643.0\n",
      "/mnt/home/norn/ligands/c2a/order/subpool_3_reverse_translate/Chris_Sam_APX_3_300ntbatch1\n"
     ]
    }
   ],
   "source": [
    "CHIP_BATCH = '300ntbatch1'\n",
    "OWNER = 'Chris_Sam' # don't have '/' in the OWNER name\n",
    "PROJECT = 'APX' # name with something biofab can understand\n",
    "for num,adaptor in enumerate(adaptor_list):\n",
    "    if num < 100:\n",
    "        subpool_dir = PARENT_DIR + '/subpool_{}_reverse_translate'.format(num)\n",
    "        order_file = glob.glob(subpool_dir+'/final_order_large_pool*.tab')[0]\n",
    "        fp = open(order_file,'r')\n",
    "        seq_list = [line.split()[-1].rstrip() for line in fp]\n",
    "        fp.close()\n",
    "        print(len(seq_list)/2)\n",
    "        fp = open(subpool_dir+'/'+ '_'.join([OWNER,PROJECT,str(num),CHIP_BATCH]),'w')\n",
    "        fp.write('\\n'.join(seq_list)+'\\n')\n",
    "        fp.close()\n",
    "        fn = subpool_dir+'/'+ '_'.join([OWNER,PROJECT,str(num),CHIP_BATCH])\n",
    "        print(f'{fn}')"
   ]
  },
  {
   "cell_type": "code",
   "execution_count": null,
   "metadata": {},
   "outputs": [],
   "source": []
  }
 ],
 "metadata": {
  "kernelspec": {
   "display_name": "high_throughput_design_for_E_function_opt",
   "language": "python",
   "name": "high_throughput_design_for_e_function_opt"
  },
  "language_info": {
   "codemirror_mode": {
    "name": "ipython",
    "version": 3
   },
   "file_extension": ".py",
   "mimetype": "text/x-python",
   "name": "python",
   "nbconvert_exporter": "python",
   "pygments_lexer": "ipython3",
   "version": "3.7.3"
  }
 },
 "nbformat": 4,
 "nbformat_minor": 4
}
